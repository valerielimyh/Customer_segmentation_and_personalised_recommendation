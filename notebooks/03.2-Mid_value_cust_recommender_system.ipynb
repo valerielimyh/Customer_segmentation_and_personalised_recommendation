{
 "cells": [
  {
   "cell_type": "code",
   "execution_count": 1,
   "metadata": {},
   "outputs": [],
   "source": [
    "import os\n",
    "import time\n",
    "import pickle\n",
    "# spark imports\n",
    "from pyspark.sql import SparkSession\n",
    "from pyspark.sql.functions import UserDefinedFunction, explode, desc\n",
    "from pyspark.sql.types import StringType, ArrayType\n",
    "from pyspark.mllib.recommendation import ALS\n",
    "\n",
    "# data science imports\n",
    "import math\n",
    "import numpy as np\n",
    "import pandas as pd\n",
    "from collections import defaultdict\n",
    "from surprise.model_selection import KFold\n",
    "from surprise import Reader\n",
    "from surprise import Dataset\n",
    "from surprise import NMF, SVD, SVDpp, SlopeOne, CoClustering\n",
    "from surprise.accuracy import rmse\n",
    "from surprise.model_selection import train_test_split, cross_validate, GridSearchCV\n",
    "\n",
    "%matplotlib inline\n",
    "from IPython.core.interactiveshell import InteractiveShell  \n",
    "InteractiveShell.ast_node_interactivity = \"all\""
   ]
  },
  {
   "cell_type": "code",
   "execution_count": 2,
   "metadata": {},
   "outputs": [],
   "source": [
    "# spark config\n",
    "spark = SparkSession \\\n",
    "    .builder \\\n",
    "    .appName(\"mid value cust pdt category recommendation\") \\\n",
    "    .config(\"spark.driver.maxResultSize\", \"96g\") \\\n",
    "    .config(\"spark.driver.memory\", \"96g\") \\\n",
    "    .config(\"spark.executor.memory\", \"8g\") \\\n",
    "    .config(\"spark.master\", \"local[12]\") \\\n",
    "    .getOrCreate()\n",
    "# get spark context\n",
    "sc = spark.sparkContext"
   ]
  },
  {
   "cell_type": "code",
   "execution_count": 3,
   "metadata": {},
   "outputs": [],
   "source": [
    "# path config\n",
    "data_path = [DATA PATH]"
   ]
  },
  {
   "cell_type": "code",
   "execution_count": 4,
   "metadata": {},
   "outputs": [
    {
     "name": "stdout",
     "output_type": "stream",
     "text": [
      "+---------------+-----------------------------+\n",
      "|product_cat_num|product_category_name_english|\n",
      "+---------------+-----------------------------+\n",
      "|              0|              furniture_decor|\n",
      "|              1|                    telephony|\n",
      "|              2|                health_beauty|\n",
      "+---------------+-----------------------------+\n",
      "only showing top 3 rows\n",
      "\n"
     ]
    }
   ],
   "source": [
    "pdt_cat = spark.read.load(os.path.join(data_path, 'pdt_cat.csv'), format='csv', header=True, inferSchema=True)\n",
    "pdt_cat.show(3)"
   ]
  },
  {
   "cell_type": "code",
   "execution_count": 5,
   "metadata": {},
   "outputs": [
    {
     "name": "stdout",
     "output_type": "stream",
     "text": [
      "+---------------+---------------+------------+\n",
      "|customer_id_num|product_cat_num|review_score|\n",
      "+---------------+---------------+------------+\n",
      "|              0|              6|           5|\n",
      "|              1|             11|           5|\n",
      "|              2|             14|           5|\n",
      "+---------------+---------------+------------+\n",
      "only showing top 3 rows\n",
      "\n"
     ]
    }
   ],
   "source": [
    "ratings = spark.read.load(os.path.join(data_path, 'mid_value_cust_num_pdt_rating_reco.csv'), format='csv', header=True, inferSchema=True)\n",
    "ratings.show(3)"
   ]
  },
  {
   "cell_type": "code",
   "execution_count": 6,
   "metadata": {},
   "outputs": [
    {
     "data": {
      "text/plain": [
       "[(0, 0, 5.0), (1, 1, 5.0), (2, 2, 5.0)]"
      ]
     },
     "execution_count": 6,
     "metadata": {},
     "output_type": "execute_result"
    }
   ],
   "source": [
    "# load data\n",
    "rating = sc.textFile(os.path.join(data_path, 'mid_value_cust_num_pdt_rating_dropna.csv'))\n",
    "# preprocess data -- only need ['customer_id,product_category_name_english,review_score']\n",
    "header = rating.take(1)[0]\n",
    "rating_data = rating \\\n",
    "    .filter(lambda line: line!=header) \\\n",
    "    .map(lambda line: line.split(\",\")) \\\n",
    "    .map(lambda tokens: (int(tokens[0]), int(tokens[1]), float(tokens[2]))) \\\n",
    "    .cache()\n",
    "# check three rows\n",
    "rating_data.take(3)"
   ]
  },
  {
   "cell_type": "code",
   "execution_count": 7,
   "metadata": {},
   "outputs": [
    {
     "data": {
      "text/plain": [
       "PythonRDD[31] at RDD at PythonRDD.scala:53"
      ]
     },
     "execution_count": 7,
     "metadata": {},
     "output_type": "execute_result"
    },
    {
     "data": {
      "text/plain": [
       "PythonRDD[32] at RDD at PythonRDD.scala:53"
      ]
     },
     "execution_count": 7,
     "metadata": {},
     "output_type": "execute_result"
    },
    {
     "data": {
      "text/plain": [
       "PythonRDD[33] at RDD at PythonRDD.scala:53"
      ]
     },
     "execution_count": 7,
     "metadata": {},
     "output_type": "execute_result"
    }
   ],
   "source": [
    "train, validation, test = rating_data.randomSplit([6, 2, 2], seed=99)\n",
    "# cache data\n",
    "train.cache()\n",
    "validation.cache()\n",
    "test.cache()"
   ]
  },
  {
   "cell_type": "code",
   "execution_count": 8,
   "metadata": {},
   "outputs": [],
   "source": [
    "def train_ALS(train_data, validation_data, num_iters, reg_param, ranks):\n",
    "    \"\"\"\n",
    "    Grid Search Function to select the best model based on RMSE of hold-out data\n",
    "    \"\"\"\n",
    "    # initial\n",
    "    min_error = float('inf')\n",
    "    best_rank = -1\n",
    "    best_regularization = 0\n",
    "    best_model = None\n",
    "    for rank in ranks:\n",
    "        for reg in reg_param:\n",
    "            # train ALS model\n",
    "            model = ALS.train(\n",
    "                ratings=train_data,    # (userID, productID, rating) tuple\n",
    "                iterations=num_iters,\n",
    "                rank=rank,\n",
    "                lambda_=reg,           # regularization param\n",
    "                seed=99)\n",
    "            # make prediction\n",
    "            valid_data = validation_data.map(lambda p: (p[0], p[1]))\n",
    "            predictions = model.predictAll(valid_data).map(lambda r: ((r[0], r[1]), r[2]))\n",
    "            # get the rating result\n",
    "            ratesAndPreds = validation_data.map(lambda r: ((r[0], r[1]), r[2])).join(predictions)\n",
    "            # get the RMSE\n",
    "            MSE = ratesAndPreds.map(lambda r: (r[1][0] - r[1][1])**2).mean()\n",
    "            error = math.sqrt(MSE)\n",
    "            print('{} latent factors and regularization = {}: validation RMSE is {}'.format(rank, reg, error))\n",
    "            if error < min_error:\n",
    "                min_error = error\n",
    "                best_rank = rank\n",
    "                best_regularization = reg\n",
    "                best_model = model\n",
    "    print('\\nThe best model has {} latent factors and regularization = {}'.format(best_rank, best_regularization))\n",
    "    return best_model"
   ]
  },
  {
   "cell_type": "code",
   "execution_count": 9,
   "metadata": {},
   "outputs": [
    {
     "name": "stdout",
     "output_type": "stream",
     "text": [
      "8 latent factors and regularization = 0.001: validation RMSE is 0.888969085623928\n",
      "8 latent factors and regularization = 0.01: validation RMSE is 0.8006677039070539\n",
      "8 latent factors and regularization = 0.05: validation RMSE is 0.6780103498753562\n",
      "8 latent factors and regularization = 0.1: validation RMSE is 0.674305843531595\n",
      "8 latent factors and regularization = 0.2: validation RMSE is 0.7047283662241749\n",
      "10 latent factors and regularization = 0.001: validation RMSE is 1.6930210544598172\n",
      "10 latent factors and regularization = 0.01: validation RMSE is 1.3064755395468228\n",
      "10 latent factors and regularization = 0.05: validation RMSE is 0.9192303109467322\n",
      "10 latent factors and regularization = 0.1: validation RMSE is 0.7785071724382898\n",
      "10 latent factors and regularization = 0.2: validation RMSE is 0.7426753779769582\n",
      "12 latent factors and regularization = 0.001: validation RMSE is 0.694825101261806\n",
      "12 latent factors and regularization = 0.01: validation RMSE is 0.6562759448713906\n",
      "12 latent factors and regularization = 0.05: validation RMSE is 0.6161835280346145\n",
      "12 latent factors and regularization = 0.1: validation RMSE is 0.6084108822608605\n",
      "12 latent factors and regularization = 0.2: validation RMSE is 0.6377688541690326\n",
      "14 latent factors and regularization = 0.001: validation RMSE is 0.8367086113822682\n",
      "14 latent factors and regularization = 0.01: validation RMSE is 0.7522560878399372\n",
      "14 latent factors and regularization = 0.05: validation RMSE is 0.6756784241419059\n",
      "14 latent factors and regularization = 0.1: validation RMSE is 0.6426835549351966\n",
      "14 latent factors and regularization = 0.2: validation RMSE is 0.6530372956611605\n",
      "16 latent factors and regularization = 0.001: validation RMSE is 1.3556398098416675\n",
      "16 latent factors and regularization = 0.01: validation RMSE is 1.0363348007838036\n",
      "16 latent factors and regularization = 0.05: validation RMSE is 0.7983345792345085\n",
      "16 latent factors and regularization = 0.1: validation RMSE is 0.7059108939676715\n",
      "16 latent factors and regularization = 0.2: validation RMSE is 0.6819825411156074\n",
      "18 latent factors and regularization = 0.001: validation RMSE is 0.9072993895711934\n",
      "18 latent factors and regularization = 0.01: validation RMSE is 0.8065625664696922\n",
      "18 latent factors and regularization = 0.05: validation RMSE is 0.7174852912664764\n",
      "18 latent factors and regularization = 0.1: validation RMSE is 0.6739015685248098\n",
      "18 latent factors and regularization = 0.2: validation RMSE is 0.6672063673656008\n",
      "20 latent factors and regularization = 0.001: validation RMSE is 0.718068503471018\n",
      "20 latent factors and regularization = 0.01: validation RMSE is 0.6734298837207805\n",
      "20 latent factors and regularization = 0.05: validation RMSE is 0.6414023133636716\n",
      "20 latent factors and regularization = 0.1: validation RMSE is 0.6138681929301917\n",
      "20 latent factors and regularization = 0.2: validation RMSE is 0.6228814912943405\n",
      "\n",
      "The best model has 12 latent factors and regularization = 0.1\n",
      "Total Runtime: 190.19 seconds\n"
     ]
    }
   ],
   "source": [
    "# hyper-param config\n",
    "num_iterations = 10\n",
    "ranks = [8, 10, 12, 14, 16, 18, 20]\n",
    "reg_params = [0.001, 0.01, 0.05, 0.1, 0.2]\n",
    "\n",
    "# grid search and select best model\n",
    "start_time = time.time()\n",
    "final_model = train_ALS(train, validation, num_iterations, reg_params, ranks)\n",
    "\n",
    "print ('Total Runtime: {:.2f} seconds'.format(time.time() - start_time))"
   ]
  },
  {
   "cell_type": "code",
   "execution_count": 10,
   "metadata": {},
   "outputs": [],
   "source": [
    "def plot_learning_curve(arr_iters, train_data, validation_data, reg, rank):\n",
    "    \"\"\"\n",
    "    Plot function to show learning curve of ALS\n",
    "    \"\"\"\n",
    "    errors = []\n",
    "    for num_iters in arr_iters:\n",
    "        # train ALS model\n",
    "        model = ALS.train(\n",
    "            ratings=train_data,    # (userID, productID, rating) tuple\n",
    "            iterations=num_iters,\n",
    "            rank=rank,\n",
    "            lambda_=reg,           # regularization param\n",
    "            seed=99)\n",
    "        # make prediction\n",
    "        valid_data = validation_data.map(lambda p: (p[0], p[1]))\n",
    "        predictions = model.predictAll(valid_data).map(lambda r: ((r[0], r[1]), r[2]))\n",
    "        # get the rating result\n",
    "        ratesAndPreds = validation_data.map(lambda r: ((r[0], r[1]), r[2])).join(predictions)\n",
    "        # get the RMSE\n",
    "        MSE = ratesAndPreds.map(lambda r: (r[1][0] - r[1][1])**2).mean()\n",
    "        error = math.sqrt(MSE)\n",
    "        # add to errors\n",
    "        errors.append(error)\n",
    "\n",
    "    # plot\n",
    "    plt.figure(figsize=(12, 6))\n",
    "    plt.plot(arr_iters, errors)\n",
    "    plt.xlabel('number of iterations')\n",
    "    plt.ylabel('RMSE')\n",
    "    plt.title('ALS Learning Curve')\n",
    "    plt.grid(True)\n",
    "    plt.show()"
   ]
  },
  {
   "cell_type": "code",
   "execution_count": 35,
   "metadata": {},
   "outputs": [
    {
     "data": {
      "image/png": "[encoded data removed]",
      "text/plain": [
       "<Figure size 864x432 with 1 Axes>"
      ]
     },
     "metadata": {
      "needs_background": "light"
     },
     "output_type": "display_data"
    }
   ],
   "source": [
    "# create an array of num_iters\n",
    "iter_array = list(range(1, 11))\n",
    "# create learning curve plot\n",
    "plot_learning_curve(iter_array, train, validation, 0.1, 12)"
   ]
  },
  {
   "cell_type": "code",
   "execution_count": 13,
   "metadata": {},
   "outputs": [
    {
     "name": "stdout",
     "output_type": "stream",
     "text": [
      "The out-of-sample RMSE of rating predictions is 0.646\n"
     ]
    }
   ],
   "source": [
    "# make prediction using test data\n",
    "test_data = test.map(lambda p: (p[0], p[1]))\n",
    "predictions = final_model.predictAll(test_data).map(lambda r: ((r[0], r[1]), r[2]))\n",
    "# get the rating result\n",
    "ratesAndPreds = test.map(lambda r: ((r[0], r[1]), r[2])).join(predictions)\n",
    "# get the RMSE\n",
    "MSE = ratesAndPreds.map(lambda r: (r[1][0] - r[1][1])**2).mean()\n",
    "error = math.sqrt(MSE)\n",
    "print('The out-of-sample RMSE of rating predictions is', round(error, 4))"
   ]
  },
  {
   "cell_type": "code",
   "execution_count": 14,
   "metadata": {},
   "outputs": [
    {
     "data": {
      "text/plain": [
       "MapPartitionsRDD[9699] at mapPartitions at PythonMLLibAPI.scala:1336"
      ]
     },
     "execution_count": 14,
     "metadata": {},
     "output_type": "execute_result"
    },
    {
     "data": {
      "text/plain": [
       "MapPartitionsRDD[9708] at mapPartitions at PythonMLLibAPI.scala:1336"
      ]
     },
     "execution_count": 14,
     "metadata": {},
     "output_type": "execute_result"
    }
   ],
   "source": [
    "from pyspark.ml.evaluation import RegressionEvaluator\n",
    "evaluator = RegressionEvaluator(metricName=\"rmse\", labelCol=\"rating\",\n",
    "                                predictionCol=\"prediction\")\n",
    "# rmse = evaluator.evaluate(ratesAndPreds)\n",
    "# print(\"Root-mean-square error = \" + str(rmse))\n",
    "\n",
    "# Generate top 10 product recommendations for each user\n",
    "userRecs = final_model.recommendProductsForUsers(10)\n",
    "userRecs\n",
    "# Generate top 10 user recommendations for each product\n",
    "pdtRecs = final_model.recommendUsersForProducts(10)\n",
    "pdtRecs"
   ]
  },
  {
   "cell_type": "code",
   "execution_count": 18,
   "metadata": {},
   "outputs": [],
   "source": [
    "list_ratesAndPreds = [[i[0][0], i[0][1], i[1][0], i[1][1]] for i in ratesAndPreds.collect()]"
   ]
  },
  {
   "cell_type": "code",
   "execution_count": 19,
   "metadata": {},
   "outputs": [
    {
     "data": {
      "text/html": [
       "<div>\n",
       "<style scoped>\n",
       "    .dataframe tbody tr th:only-of-type {\n",
       "        vertical-align: middle;\n",
       "    }\n",
       "\n",
       "    .dataframe tbody tr th {\n",
       "        vertical-align: top;\n",
       "    }\n",
       "\n",
       "    .dataframe thead th {\n",
       "        text-align: right;\n",
       "    }\n",
       "</style>\n",
       "<table border=\"1\" class=\"dataframe\">\n",
       "  <thead>\n",
       "    <tr style=\"text-align: right;\">\n",
       "      <th></th>\n",
       "      <th>customer_id_num</th>\n",
       "      <th>product_cat_num</th>\n",
       "      <th>review_score</th>\n",
       "      <th>predicted_score</th>\n",
       "    </tr>\n",
       "  </thead>\n",
       "  <tbody>\n",
       "    <tr>\n",
       "      <th>0</th>\n",
       "      <td>593</td>\n",
       "      <td>3</td>\n",
       "      <td>5.0</td>\n",
       "      <td>4.776823</td>\n",
       "    </tr>\n",
       "    <tr>\n",
       "      <th>1</th>\n",
       "      <td>593</td>\n",
       "      <td>3</td>\n",
       "      <td>5.0</td>\n",
       "      <td>4.776823</td>\n",
       "    </tr>\n",
       "    <tr>\n",
       "      <th>2</th>\n",
       "      <td>593</td>\n",
       "      <td>3</td>\n",
       "      <td>5.0</td>\n",
       "      <td>4.776823</td>\n",
       "    </tr>\n",
       "    <tr>\n",
       "      <th>3</th>\n",
       "      <td>593</td>\n",
       "      <td>3</td>\n",
       "      <td>5.0</td>\n",
       "      <td>4.776823</td>\n",
       "    </tr>\n",
       "    <tr>\n",
       "      <th>4</th>\n",
       "      <td>814</td>\n",
       "      <td>12</td>\n",
       "      <td>2.0</td>\n",
       "      <td>1.952052</td>\n",
       "    </tr>\n",
       "  </tbody>\n",
       "</table>\n",
       "</div>"
      ],
      "text/plain": [
       "   customer_id_num  product_cat_num  review_score  predicted_score\n",
       "0              593                3           5.0         4.776823\n",
       "1              593                3           5.0         4.776823\n",
       "2              593                3           5.0         4.776823\n",
       "3              593                3           5.0         4.776823\n",
       "4              814               12           2.0         1.952052"
      ]
     },
     "execution_count": 19,
     "metadata": {},
     "output_type": "execute_result"
    }
   ],
   "source": [
    "df_ratesAndPreds = pd.DataFrame(list_ratesAndPreds, columns = ['customer_id_num', 'product_cat_num', 'review_score', 'predicted_score'])\n",
    "df_ratesAndPreds.head()"
   ]
  },
  {
   "cell_type": "code",
   "execution_count": 6,
   "metadata": {},
   "outputs": [],
   "source": [
    "def binary_score(x):\n",
    "    if x >= 3:\n",
    "        return 1\n",
    "    else:\n",
    "        return 0\n",
    "df_ratesAndPreds['binary_review_score'] = df_ratesAndPreds['review_score'].apply(lambda x: binary_score(x))\n",
    "df_ratesAndPreds['binary_predicted_score'] = df_ratesAndPreds['predicted_score'].apply(lambda x: binary_score(x))"
   ]
  },
  {
   "cell_type": "code",
   "execution_count": 7,
   "metadata": {},
   "outputs": [
    {
     "data": {
      "text/plain": [
       "array([[ 527,    1],\n",
       "       [ 184, 1380]])"
      ]
     },
     "execution_count": 7,
     "metadata": {},
     "output_type": "execute_result"
    }
   ],
   "source": [
    "from sklearn.metrics import confusion_matrix\n",
    "cm = confusion_matrix(df_ratesAndPreds['binary_review_score'], df_ratesAndPreds['binary_predicted_score'])\n",
    "cm"
   ]
  },
  {
   "cell_type": "code",
   "execution_count": 8,
   "metadata": {},
   "outputs": [
    {
     "name": "stdout",
     "output_type": "stream",
     "text": [
      "              precision    recall  f1-score   support\n",
      "\n",
      "           0       0.74      1.00      0.85       528\n",
      "           1       1.00      0.88      0.94      1564\n",
      "\n",
      "    accuracy                           0.91      2092\n",
      "   macro avg       0.87      0.94      0.89      2092\n",
      "weighted avg       0.93      0.91      0.92      2092\n",
      "\n",
      "Proportion of False negatives: 0.08795411089866156\n"
     ]
    }
   ],
   "source": [
    "from sklearn import metrics\n",
    "print(metrics.classification_report(df_ratesAndPreds['binary_review_score'], df_ratesAndPreds['binary_predicted_score']))\n",
    "print(\"Proportion of False negatives:\", (cm[1][0] /sum(sum(cm))))"
   ]
  },
  {
   "cell_type": "code",
   "execution_count": 20,
   "metadata": {},
   "outputs": [],
   "source": [
    "def spark_precision_recall_at_k(predictions, k=10, threshold=3.5):\n",
    "    '''Return precision and recall at k metrics for each user.'''\n",
    "\n",
    "    # First map the predictions to each user.\n",
    "    user_est_true = defaultdict(list)\n",
    "    for uid, _, true_r, est in predictions:\n",
    "        user_est_true[uid].append((est, true_r))\n",
    "\n",
    "    precisions = dict()\n",
    "    recalls = dict()\n",
    "    for uid, user_ratings in user_est_true.items():\n",
    "\n",
    "        # Sort user ratings by estimated value\n",
    "        user_ratings.sort(key=lambda x: x[0], reverse=True)\n",
    "\n",
    "        # Number of relevant items\n",
    "        n_rel = sum((true_r >= threshold) for (_, true_r) in user_ratings)\n",
    "\n",
    "        # Number of recommended items in top k\n",
    "        n_rec_k = sum((est >= threshold) for (est, _) in user_ratings[:k])\n",
    "\n",
    "        # Number of relevant and recommended items in top k\n",
    "        n_rel_and_rec_k = sum(((true_r >= threshold) and (est >= threshold))\n",
    "                              for (est, true_r) in user_ratings[:k])\n",
    "\n",
    "        # Precision@K: Proportion of recommended items that are relevant\n",
    "        precisions[uid] = n_rel_and_rec_k / n_rec_k if n_rec_k != 0 else 1\n",
    "\n",
    "        # Recall@K: Proportion of relevant items that are recommended\n",
    "        recalls[uid] = n_rel_and_rec_k / n_rel if n_rel != 0 else 1\n",
    "\n",
    "    return precisions, recalls"
   ]
  },
  {
   "cell_type": "code",
   "execution_count": 23,
   "metadata": {},
   "outputs": [
    {
     "name": "stdout",
     "output_type": "stream",
     "text": [
      "0.9991204925241864\n",
      "0.8725532590638129\n"
     ]
    }
   ],
   "source": [
    "spark_als_precisions, spark_als_recalls = spark_precision_recall_at_k(list_ratesAndPreds, k=5, threshold=3)\n",
    "# Precision and recall can then be averaged over all users\n",
    "print(sum(prec for prec in spark_als_precisions.values()) / len(spark_als_precisions))\n",
    "print(sum(rec for rec in spark_als_recalls.values()) / len(spark_als_recalls))"
   ]
  },
  {
   "cell_type": "code",
   "execution_count": 25,
   "metadata": {},
   "outputs": [],
   "source": [
    "# df_ratesAndPreds.to_csv('../data/processed/df_ratesAndPreds_spark_als_mid_value_cust.csv')\n",
    "# with open('../data/processed/list_ratesAndPreds_spark_als_mid_value_cust.csv', 'wb') as to_write: \n",
    "#      pickle.dump(list_ratesAndPreds, to_write)\n",
    "# final_model.save(sc, '../models/spark_als_mid_value_cust_model.model')"
   ]
  },
  {
   "cell_type": "code",
   "execution_count": 4,
   "metadata": {},
   "outputs": [],
   "source": [
    "df_ratesAndPreds = pd.read_csv('../data/processed/df_ratesAndPreds_spark_als_mid_value_cust.csv', index_col=0)"
   ]
  },
  {
   "cell_type": "markdown",
   "metadata": {},
   "source": [
    "### Make product category recommendation to myself\n",
    "We need to define a function that takes new user's product category rating and output top 10 recommendations"
   ]
  },
  {
   "cell_type": "code",
   "execution_count": 7,
   "metadata": {},
   "outputs": [],
   "source": [
    "def get_product_cat_num(df_pdt_cat, fav_pdt_cat_list):\n",
    "    \"\"\"\n",
    "    return all product_cat_num(s) of user's favorite pdt_cat\n",
    "    \n",
    "    Parameters\n",
    "    ----------\n",
    "    df_pdt_cat: spark Dataframe, pdt_cat data\n",
    "    \n",
    "    fav_pdt_cat_list: list, user's list of favorite pdt_cat\n",
    "    \n",
    "    Return\n",
    "    ------\n",
    "    product_cat_num_list: list of product_cat_num(s)\n",
    "    \"\"\"\n",
    "    product_cat_num_list = []\n",
    "    for pdt_category in fav_pdt_cat_list:\n",
    "        product_cat_nums = df_pdt_cat \\\n",
    "            .filter(pdt_cat.product_category_name_english.like('%{}%'.format(pdt_category))) \\\n",
    "            .select('product_cat_num') \\\n",
    "            .rdd \\\n",
    "            .map(lambda r: r[0]) \\\n",
    "            .collect()\n",
    "        product_cat_num_list.extend(product_cat_nums)\n",
    "    return list(set(product_cat_num_list))\n",
    "\n",
    "def add_new_user_to_data(train_data, product_cat_num_list, spark_context):\n",
    "    \"\"\"\n",
    "    add new rows with new user, user's pdt_cat and ratings to\n",
    "    existing train data\n",
    "\n",
    "    Parameters\n",
    "    ----------\n",
    "    train_data: spark RDD, ratings data\n",
    "    \n",
    "    product_cat_num_list: list, list of product_cat_num(s)\n",
    "\n",
    "    spark_context: Spark Context object\n",
    "    \n",
    "    Return\n",
    "    ------\n",
    "    new train data with the new user's rows\n",
    "    \"\"\"\n",
    "    # get new user id\n",
    "    new_id = train_data.map(lambda r: r[0]).max() + 1\n",
    "    # get max rating\n",
    "    max_rating = train_data.map(lambda r: r[2]).max()\n",
    "    # create new user rdd\n",
    "    user_rows = [(new_id, product_cat_num, max_rating) for product_cat_num in product_cat_num_list]\n",
    "    new_rdd = spark_context.parallelize(user_rows)\n",
    "    # return new train data\n",
    "    return train_data.union(new_rdd)\n",
    "\n",
    "def get_inference_data(train_data, df_pdt_cat, product_cat_num_list):\n",
    "    \"\"\"\n",
    "    return a rdd with the userid and all pdt_cat (except ones in product_cat_num_list)\n",
    "\n",
    "    Parameters\n",
    "    ----------\n",
    "    train_data: spark RDD, ratings data\n",
    "\n",
    "    df_pdt_cat: spark Dataframe, pdt_cat data\n",
    "    \n",
    "    product_cat_num_list: list, list of product_cat_num(s)\n",
    "\n",
    "    Return\n",
    "    ------\n",
    "    inference data: Spark RDD\n",
    "    \"\"\"\n",
    "    # get new user id\n",
    "    new_id = train_data.map(lambda r: r[0]).max() + 1\n",
    "    # return inference rdd\n",
    "    return df_pdt_cat.rdd \\\n",
    "        .map(lambda r: r[0]) \\\n",
    "        .distinct() \\\n",
    "        .filter(lambda x: x not in product_cat_num_list) \\\n",
    "        .map(lambda x: (new_id, x))\n",
    "\n",
    "def make_recommendation(best_model_params, ratings_data, df_pdt_cat, \n",
    "                        fav_pdt_cat_list, n_recommendations, spark_context):\n",
    "    \"\"\"\n",
    "    return top n pdt_cat recommendation based on user's input list of favorite pdt_cat\n",
    "\n",
    "\n",
    "    Parameters\n",
    "    ----------\n",
    "    best_model_params: dict, {'iterations': iter, 'rank': rank, 'lambda_': reg}\n",
    "\n",
    "    ratings_data: spark RDD, ratings data\n",
    "\n",
    "    df_pdt_cat: spark Dataframe, pdt_cat data\n",
    "\n",
    "    fav_pdt_cat_list: list, user's list of favorite pdt_cat\n",
    "\n",
    "    n_recommendations: int, top n recommendations\n",
    "\n",
    "    spark_context: Spark Context object\n",
    "\n",
    "    Return\n",
    "    ------\n",
    "    list of top n pdt_cat recommendations\n",
    "    \"\"\"\n",
    "    # modify train data by adding new user's rows\n",
    "    product_cat_num_list = get_product_cat_num(df_pdt_cat, fav_pdt_cat_list)\n",
    "    train_data = add_new_user_to_data(ratings_data, product_cat_num_list, spark_context)\n",
    "    \n",
    "    # train best ALS\n",
    "    model = ALS.train(\n",
    "        ratings=train_data,\n",
    "        iterations=best_model_params.get('iterations', None),\n",
    "        rank=best_model_params.get('rank', None),\n",
    "        lambda_=best_model_params.get('lambda_', None),\n",
    "        seed=99)\n",
    "    \n",
    "    # get inference rdd\n",
    "    inference_rdd = get_inference_data(ratings_data, df_pdt_cat, product_cat_num_list)\n",
    "    \n",
    "    # inference\n",
    "    predictions = model.predictAll(inference_rdd).map(lambda r: (r[1], r[2]))\n",
    "    \n",
    "    # get top n product_cat_num\n",
    "    topn_rows = predictions.sortBy(lambda r: r[1], ascending=False).take(n_recommendations)\n",
    "    topn_ids = [r[0] for r in topn_rows]\n",
    "    \n",
    "    # return pdt_cat titles\n",
    "    return df_pdt_cat.filter(pdt_cat.product_cat_num.isin(topn_ids)) \\\n",
    "                    .select('product_category_name_english') \\\n",
    "                    .rdd \\\n",
    "                    .map(lambda r: r[0]) \\\n",
    "                    .collect()"
   ]
  },
  {
   "cell_type": "code",
   "execution_count": 8,
   "metadata": {},
   "outputs": [
    {
     "name": "stdout",
     "output_type": "stream",
     "text": [
      "Recommendations for bed_bath_table:\n",
      "1: watches_gifts\n",
      "2: fixed_telephony\n",
      "3: fashion_bags_accessories\n",
      "4: books_general_interest\n",
      "5: stationery\n",
      "6: home_appliances_2\n",
      "7: fashion_underwear_beach\n",
      "8: home_appliances\n",
      "9: cine_photo\n",
      "10: furniture_mattress_and_upholstery\n"
     ]
    }
   ],
   "source": [
    "# my favorite pdt_cat\n",
    "my_favorite_pdt_cat = ['bed_bath_table']\n",
    "\n",
    "# get recommends\n",
    "recommends = make_recommendation(\n",
    "    best_model_params={'iterations': 10, 'rank': 12, 'lambda_': 0.1}, \n",
    "    ratings_data=rating_data, \n",
    "    df_pdt_cat=pdt_cat, \n",
    "    fav_pdt_cat_list=my_favorite_pdt_cat, \n",
    "    n_recommendations=10, \n",
    "    spark_context=sc)\n",
    "\n",
    "print('Recommendations for {}:'.format(my_favorite_pdt_cat[0]))\n",
    "for i, pdt_category in enumerate(recommends):\n",
    "    print('{0}: {1}'.format(i+1, pdt_category))"
   ]
  },
  {
   "cell_type": "code",
   "execution_count": 38,
   "metadata": {},
   "outputs": [],
   "source": [
    "with open('../data/processed/bed_bath_table_recommends_spark_als_mid_value_cust.csv', 'wb') as to_write: \n",
    "     pickle.dump(recommends, to_write)"
   ]
  },
  {
   "cell_type": "markdown",
   "metadata": {},
   "source": [
    "Modelling using Surprise library"
   ]
  },
  {
   "cell_type": "code",
   "execution_count": 30,
   "metadata": {},
   "outputs": [
    {
     "data": {
      "text/html": [
       "<div>\n",
       "<style scoped>\n",
       "    .dataframe tbody tr th:only-of-type {\n",
       "        vertical-align: middle;\n",
       "    }\n",
       "\n",
       "    .dataframe tbody tr th {\n",
       "        vertical-align: top;\n",
       "    }\n",
       "\n",
       "    .dataframe thead th {\n",
       "        text-align: right;\n",
       "    }\n",
       "</style>\n",
       "<table border=\"1\" class=\"dataframe\">\n",
       "  <thead>\n",
       "    <tr style=\"text-align: right;\">\n",
       "      <th></th>\n",
       "      <th>customer_id_num</th>\n",
       "      <th>product_cat_num</th>\n",
       "      <th>review_score</th>\n",
       "    </tr>\n",
       "  </thead>\n",
       "  <tbody>\n",
       "    <tr>\n",
       "      <th>0</th>\n",
       "      <td>0</td>\n",
       "      <td>0</td>\n",
       "      <td>5</td>\n",
       "    </tr>\n",
       "    <tr>\n",
       "      <th>1</th>\n",
       "      <td>1</td>\n",
       "      <td>1</td>\n",
       "      <td>5</td>\n",
       "    </tr>\n",
       "    <tr>\n",
       "      <th>2</th>\n",
       "      <td>2</td>\n",
       "      <td>2</td>\n",
       "      <td>5</td>\n",
       "    </tr>\n",
       "  </tbody>\n",
       "</table>\n",
       "</div>"
      ],
      "text/plain": [
       "   customer_id_num  product_cat_num  review_score\n",
       "0                0                0             5\n",
       "1                1                1             5\n",
       "2                2                2             5"
      ]
     },
     "execution_count": 30,
     "metadata": {},
     "output_type": "execute_result"
    }
   ],
   "source": [
    "ratings_df = pd.read_csv('../data/processed/mid_value_cust_num_pdt_rating_dropna.csv')\n",
    "ratings_df.head(3)"
   ]
  },
  {
   "cell_type": "code",
   "execution_count": 31,
   "metadata": {},
   "outputs": [],
   "source": [
    "reader = Reader(rating_scale=(1, 5))\n",
    "data = Dataset.load_from_df(ratings_df, reader)"
   ]
  },
  {
   "cell_type": "code",
   "execution_count": 33,
   "metadata": {},
   "outputs": [],
   "source": [
    "benchmark = []\n",
    "# Iterate over all algorithms\n",
    "for algorithm in [SVD(), SVDpp(), SlopeOne(), NMF(), CoClustering()]:\n",
    "    # Perform cross validation\n",
    "    results = cross_validate(algorithm, data, measures=['RMSE'], cv=5, verbose=False)\n",
    "    \n",
    "    # Get results & append algorithm name\n",
    "    tmp = pd.DataFrame.from_dict(results).mean(axis=0)\n",
    "    tmp = tmp.append(pd.Series([str(algorithm).split(' ')[0].split('.')[-1]], index=['Algorithm']))\n",
    "    benchmark.append(tmp)"
   ]
  },
  {
   "cell_type": "code",
   "execution_count": 34,
   "metadata": {},
   "outputs": [
    {
     "data": {
      "text/html": [
       "<div>\n",
       "<style scoped>\n",
       "    .dataframe tbody tr th:only-of-type {\n",
       "        vertical-align: middle;\n",
       "    }\n",
       "\n",
       "    .dataframe tbody tr th {\n",
       "        vertical-align: top;\n",
       "    }\n",
       "\n",
       "    .dataframe thead th {\n",
       "        text-align: right;\n",
       "    }\n",
       "</style>\n",
       "<table border=\"1\" class=\"dataframe\">\n",
       "  <thead>\n",
       "    <tr style=\"text-align: right;\">\n",
       "      <th></th>\n",
       "      <th>test_rmse</th>\n",
       "      <th>fit_time</th>\n",
       "      <th>test_time</th>\n",
       "    </tr>\n",
       "    <tr>\n",
       "      <th>Algorithm</th>\n",
       "      <th></th>\n",
       "      <th></th>\n",
       "      <th></th>\n",
       "    </tr>\n",
       "  </thead>\n",
       "  <tbody>\n",
       "    <tr>\n",
       "      <th>SlopeOne</th>\n",
       "      <td>1.129912</td>\n",
       "      <td>0.204258</td>\n",
       "      <td>0.049024</td>\n",
       "    </tr>\n",
       "    <tr>\n",
       "      <th>NMF</th>\n",
       "      <td>1.136165</td>\n",
       "      <td>2.301609</td>\n",
       "      <td>0.030707</td>\n",
       "    </tr>\n",
       "    <tr>\n",
       "      <th>CoClustering</th>\n",
       "      <td>1.139846</td>\n",
       "      <td>1.896466</td>\n",
       "      <td>0.023620</td>\n",
       "    </tr>\n",
       "    <tr>\n",
       "      <th>SVD</th>\n",
       "      <td>1.155862</td>\n",
       "      <td>1.405674</td>\n",
       "      <td>0.031161</td>\n",
       "    </tr>\n",
       "    <tr>\n",
       "      <th>SVDpp</th>\n",
       "      <td>1.170751</td>\n",
       "      <td>2.611656</td>\n",
       "      <td>0.058694</td>\n",
       "    </tr>\n",
       "  </tbody>\n",
       "</table>\n",
       "</div>"
      ],
      "text/plain": [
       "              test_rmse  fit_time  test_time\n",
       "Algorithm                                   \n",
       "SlopeOne       1.129912  0.204258   0.049024\n",
       "NMF            1.136165  2.301609   0.030707\n",
       "CoClustering   1.139846  1.896466   0.023620\n",
       "SVD            1.155862  1.405674   0.031161\n",
       "SVDpp          1.170751  2.611656   0.058694"
      ]
     },
     "execution_count": 34,
     "metadata": {},
     "output_type": "execute_result"
    }
   ],
   "source": [
    "surprise_results = pd.DataFrame(benchmark).set_index('Algorithm').sort_values('test_rmse')\n",
    "surprise_results"
   ]
  },
  {
   "cell_type": "code",
   "execution_count": 158,
   "metadata": {},
   "outputs": [
    {
     "name": "stdout",
     "output_type": "stream",
     "text": [
      "0.7491592821079883\n",
      "{'n_factors': 15}\n"
     ]
    }
   ],
   "source": [
    "param_grid = {'n_factors': [11,12,15,18,21]}\n",
    "gs = GridSearchCV(NMF, param_grid, measures=['rmse'], cv=5)\n",
    "gs.fit(data)\n",
    "\n",
    "\n",
    "# best RMSE score\n",
    "print(gs.best_score['rmse'])\n",
    "\n",
    "# combination of parameters that gave the best RMSE score\n",
    "print(gs.best_params['rmse'])"
   ]
  },
  {
   "cell_type": "code",
   "execution_count": 164,
   "metadata": {},
   "outputs": [
    {
     "data": {
      "text/plain": [
       "[Prediction(uid=947, iid=5, r_ui=3.524137931034483, est=4.34251746282013, details={'was_impossible': False}),\n",
       " Prediction(uid=947, iid=1, r_ui=3.524137931034483, est=4.097083154636506, details={'was_impossible': False})]"
      ]
     },
     "execution_count": 164,
     "metadata": {},
     "output_type": "execute_result"
    }
   ],
   "source": [
    "algo_NMF = NMF(n_factors = 11)\n",
    "algo_NMF.fit(trainset)\n",
    "\n",
    "\n",
    "# Predict ratings for all pairs (i,j) that are NOT in the training set.\n",
    "testset = trainset.build_anti_testset()\n",
    "\n",
    "NMF_predictions = algo_NMF.test(testset)\n",
    "\n",
    "# subset of the list  predictions\n",
    "NMF_predictions[0:2]"
   ]
  },
  {
   "cell_type": "code",
   "execution_count": 316,
   "metadata": {},
   "outputs": [],
   "source": [
    "# with open('../data/processed/NMF_predictions.pkl', 'wb') as to_write: \n",
    "#      pickle.dump(NMF_predictions, to_write)"
   ]
  },
  {
   "cell_type": "code",
   "execution_count": 173,
   "metadata": {},
   "outputs": [
    {
     "data": {
      "text/plain": [
       "59708"
      ]
     },
     "execution_count": 173,
     "metadata": {},
     "output_type": "execute_result"
    }
   ],
   "source": [
    "len(NMF_predictions)"
   ]
  },
  {
   "cell_type": "code",
   "execution_count": 161,
   "metadata": {},
   "outputs": [],
   "source": [
    "def precision_recall_at_k(predictions, k=10, threshold=3.5):\n",
    "    '''Return precision and recall at k metrics for each user.'''\n",
    "\n",
    "    # First map the predictions to each user.\n",
    "    user_est_true = defaultdict(list)\n",
    "    for uid, _, true_r, est, _ in predictions:\n",
    "        user_est_true[uid].append((est, true_r))\n",
    "\n",
    "    precisions = dict()\n",
    "    recalls = dict()\n",
    "    for uid, user_ratings in user_est_true.items():\n",
    "\n",
    "        # Sort user ratings by estimated value\n",
    "        user_ratings.sort(key=lambda x: x[0], reverse=True)\n",
    "\n",
    "        # Number of relevant items\n",
    "        n_rel = sum((true_r >= threshold) for (_, true_r) in user_ratings)\n",
    "\n",
    "        # Number of recommended items in top k\n",
    "        n_rec_k = sum((est >= threshold) for (est, _) in user_ratings[:k])\n",
    "\n",
    "        # Number of relevant and recommended items in top k\n",
    "        n_rel_and_rec_k = sum(((true_r >= threshold) and (est >= threshold))\n",
    "                              for (est, true_r) in user_ratings[:k])\n",
    "\n",
    "        # Precision@K: Proportion of recommended items that are relevant\n",
    "        precisions[uid] = n_rel_and_rec_k / n_rec_k if n_rec_k != 0 else 1\n",
    "\n",
    "        # Recall@K: Proportion of relevant items that are recommended\n",
    "        recalls[uid] = n_rel_and_rec_k / n_rel if n_rel != 0 else 1\n",
    "\n",
    "    return precisions, recalls"
   ]
  },
  {
   "cell_type": "code",
   "execution_count": 165,
   "metadata": {},
   "outputs": [
    {
     "name": "stdout",
     "output_type": "stream",
     "text": [
      "1.0\n",
      "0.062396867646215555\n"
     ]
    }
   ],
   "source": [
    "precisions, recalls = precision_recall_at_k(NMF_predictions, k=5, threshold=3)\n",
    "# Precision and recall can then be averaged over all users\n",
    "print(sum(prec for prec in precisions.values()) / len(precisions))\n",
    "print(sum(rec for rec in recalls.values()) / len(recalls))"
   ]
  },
  {
   "cell_type": "code",
   "execution_count": 172,
   "metadata": {},
   "outputs": [
    {
     "data": {
      "text/plain": [
       "1048"
      ]
     },
     "execution_count": 172,
     "metadata": {},
     "output_type": "execute_result"
    },
    {
     "data": {
      "text/plain": [
       "1048"
      ]
     },
     "execution_count": 172,
     "metadata": {},
     "output_type": "execute_result"
    }
   ],
   "source": [
    "len(precisions)\n",
    "len(recalls)"
   ]
  },
  {
   "cell_type": "markdown",
   "metadata": {},
   "source": [
    "Used Spark's ALS due to its lower RMSE cf. to using ML models using Surprise"
   ]
  }
 ],
 "metadata": {
  "kernelspec": {
   "display_name": "Python [conda env:metis] *",
   "language": "python",
   "name": "conda-env-metis-py"
  },
  "language_info": {
   "codemirror_mode": {
    "name": "ipython",
    "version": 3
   },
   "file_extension": ".py",
   "mimetype": "text/x-python",
   "name": "python",
   "nbconvert_exporter": "python",
   "pygments_lexer": "ipython3",
   "version": "3.7.4"
  }
 },
 "nbformat": 4,
 "nbformat_minor": 4
}
