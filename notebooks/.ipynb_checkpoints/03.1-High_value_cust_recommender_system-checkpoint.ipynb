{
 "cells": [
  {
   "cell_type": "code",
   "execution_count": 7,
   "metadata": {},
   "outputs": [],
   "source": [
    "import os\n",
    "import time\n",
    "import pickle \n",
    "from collections import defaultdict\n",
    "# spark imports\n",
    "from pyspark.sql import SparkSession\n",
    "from pyspark.sql.functions import UserDefinedFunction, explode, desc\n",
    "from pyspark.sql.types import StringType, ArrayType\n",
    "from pyspark.mllib.recommendation import ALS, MatrixFactorizationModel\n",
    "\n",
    "# data science imports\n",
    "import math\n",
    "import numpy as np\n",
    "import pandas as pd\n",
    "\n",
    "from surprise.model_selection import KFold\n",
    "from collections import defaultdict\n",
    "from surprise import Reader\n",
    "from surprise import Dataset\n",
    "from surprise import NMF, SVD, SVDpp, SlopeOne, CoClustering\n",
    "from surprise.accuracy import rmse\n",
    "from surprise.model_selection import train_test_split, cross_validate, GridSearchCV\n",
    "\n",
    "#settings\n",
    "from IPython.core.interactiveshell import InteractiveShell  \n",
    "InteractiveShell.ast_node_interactivity = \"all\""
   ]
  },
  {
   "cell_type": "code",
   "execution_count": 8,
   "metadata": {},
   "outputs": [],
   "source": [
    "# spark config\n",
    "spark = SparkSession \\\n",
    "    .builder \\\n",
    "    .appName(\"pdt recommendation for high value cust\") \\\n",
    "    .config(\"spark.driver.maxResultSize\", \"96g\") \\\n",
    "    .config(\"spark.driver.memory\", \"96g\") \\\n",
    "    .config(\"spark.executor.memory\", \"8g\") \\\n",
    "    .config(\"spark.master\", \"local[12]\") \\\n",
    "    .getOrCreate()\n",
    "# get spark context\n",
    "sc = spark.sparkContext"
   ]
  },
  {
   "cell_type": "code",
   "execution_count": 9,
   "metadata": {},
   "outputs": [],
   "source": [
    "# path config\n",
    "data_path = [DATA PATH]"
   ]
  },
  {
   "cell_type": "code",
   "execution_count": 10,
   "metadata": {},
   "outputs": [
    {
     "name": "stdout",
     "output_type": "stream",
     "text": [
      "+---------------+-----------------------------+\n",
      "|product_cat_num|product_category_name_english|\n",
      "+---------------+-----------------------------+\n",
      "|              0|              furniture_decor|\n",
      "|              1|                    telephony|\n",
      "|              2|                health_beauty|\n",
      "+---------------+-----------------------------+\n",
      "only showing top 3 rows\n",
      "\n"
     ]
    }
   ],
   "source": [
    "pdt_cat = spark.read.load(os.path.join(data_path, 'pdt_cat.csv'), format='csv', header=True, inferSchema=True)\n",
    "pdt_cat.show(3)"
   ]
  },
  {
   "cell_type": "code",
   "execution_count": 11,
   "metadata": {},
   "outputs": [
    {
     "name": "stdout",
     "output_type": "stream",
     "text": [
      "+---------------+---------------+------------+\n",
      "|customer_id_num|product_cat_num|review_score|\n",
      "+---------------+---------------+------------+\n",
      "|              0|              2|           3|\n",
      "|              1|              0|           5|\n",
      "|              2|              0|           5|\n",
      "+---------------+---------------+------------+\n",
      "only showing top 3 rows\n",
      "\n"
     ]
    }
   ],
   "source": [
    "ratings = spark.read.load(os.path.join(data_path, 'high_value_cust_num_pdt_rating_reco.csv'), format='csv', header=True, inferSchema=True)\n",
    "ratings.show(3)"
   ]
  },
  {
   "cell_type": "code",
   "execution_count": 12,
   "metadata": {},
   "outputs": [
    {
     "data": {
      "text/plain": [
       "[(0, 0, 3.0), (1, 1, 5.0), (2, 1, 5.0)]"
      ]
     },
     "execution_count": 12,
     "metadata": {},
     "output_type": "execute_result"
    }
   ],
   "source": [
    "# load data\n",
    "rating = sc.textFile(os.path.join(data_path, 'high_value_cust_pdt_rating_dropna.csv'))\n",
    "# preprocess data -- only need ['customer_id,product_category_name_english,review_score']\n",
    "header = rating.take(1)[0]\n",
    "rating_data = rating \\\n",
    "    .filter(lambda line: line!=header) \\\n",
    "    .map(lambda line: line.split(\",\")) \\\n",
    "    .map(lambda tokens: (int(tokens[0]), int(tokens[1]), float(tokens[2]))) \\\n",
    "    .cache()\n",
    "# check three rows\n",
    "rating_data.take(3)"
   ]
  },
  {
   "cell_type": "code",
   "execution_count": 7,
   "metadata": {},
   "outputs": [
    {
     "data": {
      "text/plain": [
       "PythonRDD[31] at RDD at PythonRDD.scala:53"
      ]
     },
     "execution_count": 7,
     "metadata": {},
     "output_type": "execute_result"
    },
    {
     "data": {
      "text/plain": [
       "PythonRDD[32] at RDD at PythonRDD.scala:53"
      ]
     },
     "execution_count": 7,
     "metadata": {},
     "output_type": "execute_result"
    },
    {
     "data": {
      "text/plain": [
       "PythonRDD[33] at RDD at PythonRDD.scala:53"
      ]
     },
     "execution_count": 7,
     "metadata": {},
     "output_type": "execute_result"
    }
   ],
   "source": [
    "train, validation, test = rating_data.randomSplit([6, 2, 2], seed=99)\n",
    "\n",
    "# cache data\n",
    "train.cache()\n",
    "validation.cache()\n",
    "test.cache()"
   ]
  },
  {
   "cell_type": "code",
   "execution_count": 10,
   "metadata": {},
   "outputs": [],
   "source": [
    "def train_ALS(train_data, validation_data, num_iters, reg_param, ranks):\n",
    "    \"\"\"\n",
    "    Grid Search Function to select the best model based on RMSE of hold-out data\n",
    "    \"\"\"\n",
    "    # initial\n",
    "    min_error = float('inf')\n",
    "    best_rank = -1\n",
    "    best_regularization = 0\n",
    "    best_model = None\n",
    "    for rank in ranks:\n",
    "        for reg in reg_param:\n",
    "            # train ALS model\n",
    "            model = ALS.train(\n",
    "                ratings=train_data,    # (userID, productID, rating) tuple\n",
    "                iterations=num_iters,\n",
    "                rank=rank,\n",
    "                lambda_=reg,           # regularization param\n",
    "                seed=99)\n",
    "            # make prediction\n",
    "            valid_data = validation_data.map(lambda p: (p[0], p[1]))\n",
    "            predictions = model.predictAll(valid_data).map(lambda r: ((r[0], r[1]), r[2]))\n",
    "            # get the rating result\n",
    "            ratesAndPreds = validation_data.map(lambda r: ((r[0], r[1]), r[2])).join(predictions)\n",
    "            # get the RMSE\n",
    "            MSE = ratesAndPreds.map(lambda r: (r[1][0] - r[1][1])**2).mean()\n",
    "            error = math.sqrt(MSE)\n",
    "            print('{} latent factors and regularization = {}: validation RMSE is {}'.format(rank, reg, error))\n",
    "            if error < min_error:\n",
    "                min_error = error\n",
    "                best_rank = rank\n",
    "                best_regularization = reg\n",
    "                best_model = model\n",
    "    print('\\nThe best model has {} latent factors and regularization = {}'.format(best_rank, best_regularization))\n",
    "    return best_model"
   ]
  },
  {
   "cell_type": "code",
   "execution_count": 12,
   "metadata": {},
   "outputs": [
    {
     "name": "stdout",
     "output_type": "stream",
     "text": [
      "8 latent factors and regularization = 0.001: validation RMSE is 0.24431917835362343\n",
      "8 latent factors and regularization = 0.01: validation RMSE is 0.23252109740505222\n",
      "8 latent factors and regularization = 0.05: validation RMSE is 0.2270424296924432\n",
      "8 latent factors and regularization = 0.1: validation RMSE is 0.2454694134943101\n",
      "8 latent factors and regularization = 0.2: validation RMSE is 0.3178496144940264\n",
      "10 latent factors and regularization = 0.001: validation RMSE is 0.47851296866229415\n",
      "10 latent factors and regularization = 0.01: validation RMSE is 0.4048966505346634\n",
      "10 latent factors and regularization = 0.05: validation RMSE is 0.3619262918540756\n",
      "10 latent factors and regularization = 0.1: validation RMSE is 0.35849701526941063\n",
      "10 latent factors and regularization = 0.2: validation RMSE is 0.3938318179310317\n",
      "12 latent factors and regularization = 0.001: validation RMSE is 0.2552060809090079\n",
      "12 latent factors and regularization = 0.01: validation RMSE is 0.2620077212159335\n",
      "12 latent factors and regularization = 0.05: validation RMSE is 0.26512745977678515\n",
      "12 latent factors and regularization = 0.1: validation RMSE is 0.2781184502611375\n",
      "12 latent factors and regularization = 0.2: validation RMSE is 0.33856610606775395\n",
      "14 latent factors and regularization = 0.001: validation RMSE is 0.32752118267703767\n",
      "14 latent factors and regularization = 0.01: validation RMSE is 0.29640711431508593\n",
      "14 latent factors and regularization = 0.05: validation RMSE is 0.283478949511935\n",
      "14 latent factors and regularization = 0.1: validation RMSE is 0.2918316665661156\n",
      "14 latent factors and regularization = 0.2: validation RMSE is 0.34806940418935445\n",
      "16 latent factors and regularization = 0.001: validation RMSE is 0.28519366278654534\n",
      "16 latent factors and regularization = 0.01: validation RMSE is 0.26377111774203177\n",
      "16 latent factors and regularization = 0.05: validation RMSE is 0.2543195622255977\n",
      "16 latent factors and regularization = 0.1: validation RMSE is 0.2655678705267208\n",
      "16 latent factors and regularization = 0.2: validation RMSE is 0.3287075441335288\n",
      "18 latent factors and regularization = 0.001: validation RMSE is 0.2823476887647944\n",
      "18 latent factors and regularization = 0.01: validation RMSE is 0.2660238884127768\n",
      "18 latent factors and regularization = 0.05: validation RMSE is 0.26985605163026405\n",
      "18 latent factors and regularization = 0.1: validation RMSE is 0.2800321295933543\n",
      "18 latent factors and regularization = 0.2: validation RMSE is 0.3383590718779449\n",
      "20 latent factors and regularization = 0.001: validation RMSE is 0.2900157724899427\n",
      "20 latent factors and regularization = 0.01: validation RMSE is 0.2652939047073626\n",
      "20 latent factors and regularization = 0.05: validation RMSE is 0.26409811497138413\n",
      "20 latent factors and regularization = 0.1: validation RMSE is 0.2796186997951388\n",
      "20 latent factors and regularization = 0.2: validation RMSE is 0.34473817612936913\n",
      "\n",
      "The best model has 8 latent factors and regularization = 0.05\n",
      "Total Runtime: 146.01 seconds\n"
     ]
    }
   ],
   "source": [
    "# hyper-param config\n",
    "num_iterations = 10\n",
    "ranks = [8, 10, 12, 14, 16, 18, 20]\n",
    "reg_params = [0.001, 0.01, 0.05, 0.1, 0.2]\n",
    "\n",
    "# grid search and select best model\n",
    "start_time = time.time()\n",
    "final_model = train_ALS(train, validation, num_iterations, reg_params, ranks)\n",
    "\n",
    "print ('Total Runtime: {:.2f} seconds'.format(time.time() - start_time))"
   ]
  },
  {
   "cell_type": "code",
   "execution_count": 78,
   "metadata": {},
   "outputs": [],
   "source": [
    "def plot_learning_curve(arr_iters, train_data, validation_data, reg, rank):\n",
    "    \"\"\"\n",
    "    Plot function to show learning curve of ALS\n",
    "    \"\"\"\n",
    "    errors = []\n",
    "    for num_iters in arr_iters:\n",
    "        # train ALS model\n",
    "        model = ALS.train(\n",
    "            ratings=train_data,    # (userID, productID, rating) tuple\n",
    "            iterations=num_iters,\n",
    "            rank=rank,\n",
    "            lambda_=reg,           # regularization param\n",
    "            seed=99)\n",
    "        # make prediction\n",
    "        valid_data = validation_data.map(lambda p: (p[0], p[1]))\n",
    "        predictions = model.predictAll(valid_data).map(lambda r: ((r[0], r[1]), r[2]))\n",
    "        # get the rating result\n",
    "        ratesAndPreds = validation_data.map(lambda r: ((r[0], r[1]), r[2])).join(predictions)\n",
    "        # get the RMSE\n",
    "        MSE = ratesAndPreds.map(lambda r: (r[1][0] - r[1][1])**2).mean()\n",
    "        error = math.sqrt(MSE)\n",
    "        # add to errors\n",
    "        errors.append(error)\n",
    "\n",
    "    # plot\n",
    "    plt.figure(figsize=(12, 6))\n",
    "    plt.plot(arr_iters, errors)\n",
    "    plt.xlabel('number of iterations')\n",
    "    plt.ylabel('RMSE')\n",
    "    plt.title('ALS Learning Curve')\n",
    "    plt.grid(True)\n",
    "    plt.show()"
   ]
  },
  {
   "cell_type": "code",
   "execution_count": 79,
   "metadata": {},
   "outputs": [
    {
     "data": {
      "image/png": "[encoded data removed]",
      "text/plain": [
       "<Figure size 864x432 with 1 Axes>"
      ]
     },
     "metadata": {
      "needs_background": "light"
     },
     "output_type": "display_data"
    }
   ],
   "source": [
    "# create an array of num_iters\n",
    "iter_array = list(range(1, 11))\n",
    "# create learning curve plot\n",
    "plot_learning_curve(iter_array, train, validation, 0.05, 8)"
   ]
  },
  {
   "cell_type": "code",
   "execution_count": 13,
   "metadata": {},
   "outputs": [
    {
     "name": "stdout",
     "output_type": "stream",
     "text": [
      "The out-of-sample RMSE of rating predictions is 0.3747\n"
     ]
    }
   ],
   "source": [
    "# make prediction using test data\n",
    "test_data = test.map(lambda p: (p[0], p[1]))\n",
    "predictions = final_model.predictAll(test_data).map(lambda r: ((r[0], r[1]), r[2]))\n",
    "# get the rating result\n",
    "ratesAndPreds = test.map(lambda r: ((r[0], r[1]), r[2])).join(predictions)\n",
    "# get the RMSE\n",
    "MSE = ratesAndPreds.map(lambda r: (r[1][0] - r[1][1])**2).mean()\n",
    "error = math.sqrt(MSE)\n",
    "print('The out-of-sample RMSE of rating predictions is', round(error, 4))"
   ]
  },
  {
   "cell_type": "code",
   "execution_count": 91,
   "metadata": {},
   "outputs": [
    {
     "data": {
      "text/plain": [
       "MapPartitionsRDD[9892] at mapPartitions at PythonMLLibAPI.scala:1336"
      ]
     },
     "execution_count": 91,
     "metadata": {},
     "output_type": "execute_result"
    }
   ],
   "source": [
    "from pyspark.ml.evaluation import RegressionEvaluator\n",
    "evaluator = RegressionEvaluator(metricName=\"rmse\", labelCol=\"rating\",\n",
    "                                predictionCol=\"prediction\")\n",
    "# rmse = evaluator.evaluate(ratesAndPreds)\n",
    "# print(\"Root-mean-square error = \" + str(rmse))\n",
    "\n",
    "# Generate top 10 product recommendations for each user\n",
    "userRecs = final_model.recommendProductsForUsers(10)\n",
    "userRecs\n",
    "# Generate top 10 user recommendations for each product\n",
    "pdtRecs = final_model.recommendUsersForProducts(10)\n",
    "pdtRecs"
   ]
  },
  {
   "cell_type": "code",
   "execution_count": 15,
   "metadata": {},
   "outputs": [],
   "source": [
    "final_model = MatrixFactorizationModel.load(sc, \"../models/spark_als_high_value_cust_model.model\")"
   ]
  },
  {
   "cell_type": "code",
   "execution_count": 20,
   "metadata": {},
   "outputs": [
    {
     "data": {
      "text/plain": [
       "[(720,\n",
       "  (Rating(user=720, product=20, rating=1.1177864523843386),\n",
       "   Rating(user=720, product=40, rating=1.0957824069063602),\n",
       "   Rating(user=720, product=37, rating=1.0271593846223648),\n",
       "   Rating(user=720, product=15, rating=1.0113352936002968),\n",
       "   Rating(user=720, product=5, rating=0.9913608231583615),\n",
       "   Rating(user=720, product=31, rating=0.9597345505762076),\n",
       "   Rating(user=720, product=11, rating=0.8821472673628833),\n",
       "   Rating(user=720, product=53, rating=0.8536687629100439),\n",
       "   Rating(user=720, product=47, rating=0.8374888718032705),\n",
       "   Rating(user=720, product=39, rating=0.6945236386234274))),\n",
       " (1008,\n",
       "  (Rating(user=1008, product=14, rating=4.9692495437173765),\n",
       "   Rating(user=1008, product=45, rating=4.955921678556409),\n",
       "   Rating(user=1008, product=36, rating=3.7472293848016607),\n",
       "   Rating(user=1008, product=3, rating=3.472117747048747),\n",
       "   Rating(user=1008, product=47, rating=3.210040870427311),\n",
       "   Rating(user=1008, product=38, rating=3.187094456784287),\n",
       "   Rating(user=1008, product=35, rating=2.880599663367027),\n",
       "   Rating(user=1008, product=53, rating=2.7452592986029347),\n",
       "   Rating(user=1008, product=13, rating=1.8382621953547456),\n",
       "   Rating(user=1008, product=6, rating=1.8150130847052997))),\n",
       " (0,\n",
       "  (Rating(user=0, product=0, rating=2.9860878003395213),\n",
       "   Rating(user=0, product=52, rating=2.3765671819445604),\n",
       "   Rating(user=0, product=38, rating=2.0256305310907337),\n",
       "   Rating(user=0, product=10, rating=1.4674016218242676),\n",
       "   Rating(user=0, product=37, rating=1.3456354366744603),\n",
       "   Rating(user=0, product=57, rating=1.2811950853863021),\n",
       "   Rating(user=0, product=29, rating=1.0352254142195743),\n",
       "   Rating(user=0, product=47, rating=1.029997139821095),\n",
       "   Rating(user=0, product=18, rating=0.8499605735860174),\n",
       "   Rating(user=0, product=35, rating=0.8031862094714322))),\n",
       " (288,\n",
       "  (Rating(user=288, product=53, rating=5.003392588332677),\n",
       "   Rating(user=288, product=6, rating=4.955754327461891),\n",
       "   Rating(user=288, product=31, rating=4.762834279950802),\n",
       "   Rating(user=288, product=11, rating=4.239627703171239),\n",
       "   Rating(user=288, product=23, rating=4.116420196474342),\n",
       "   Rating(user=288, product=47, rating=3.6589372785055296),\n",
       "   Rating(user=288, product=30, rating=3.581297039074253),\n",
       "   Rating(user=288, product=15, rating=3.3340597492836546),\n",
       "   Rating(user=288, product=18, rating=3.121901420826543),\n",
       "   Rating(user=288, product=43, rating=2.8155191596660627))),\n",
       " (432,\n",
       "  (Rating(user=432, product=13, rating=3.9667570099822513),\n",
       "   Rating(user=432, product=38, rating=3.664490215097233),\n",
       "   Rating(user=432, product=20, rating=3.641750027866148),\n",
       "   Rating(user=432, product=43, rating=3.524770828584489),\n",
       "   Rating(user=432, product=8, rating=2.8624746825273504),\n",
       "   Rating(user=432, product=47, rating=2.582415614166049),\n",
       "   Rating(user=432, product=35, rating=2.1831720302293376),\n",
       "   Rating(user=432, product=37, rating=2.106334829831094),\n",
       "   Rating(user=432, product=6, rating=2.0762615658892467),\n",
       "   Rating(user=432, product=14, rating=1.987272969146997))),\n",
       " (576,\n",
       "  (Rating(user=576, product=20, rating=1.1177864523843386),\n",
       "   Rating(user=576, product=40, rating=1.0957824069063602),\n",
       "   Rating(user=576, product=37, rating=1.0271593846223648),\n",
       "   Rating(user=576, product=15, rating=1.0113352936002968),\n",
       "   Rating(user=576, product=5, rating=0.9913608231583615),\n",
       "   Rating(user=576, product=31, rating=0.9597345505762076),\n",
       "   Rating(user=576, product=11, rating=0.8821472673628833),\n",
       "   Rating(user=576, product=53, rating=0.8536687629100439),\n",
       "   Rating(user=576, product=47, rating=0.8374888718032705),\n",
       "   Rating(user=576, product=39, rating=0.6945236386234274))),\n",
       " (864,\n",
       "  (Rating(user=864, product=52, rating=5.0796307401999865),\n",
       "   Rating(user=864, product=1, rating=4.954581371870312),\n",
       "   Rating(user=864, product=32, rating=4.257740450109244),\n",
       "   Rating(user=864, product=24, rating=3.3863866987250706),\n",
       "   Rating(user=864, product=45, rating=3.3777388658316374),\n",
       "   Rating(user=864, product=16, rating=3.245896744152935),\n",
       "   Rating(user=864, product=19, rating=3.084895733259533),\n",
       "   Rating(user=864, product=28, rating=3.079314353117317),\n",
       "   Rating(user=864, product=26, rating=2.825422839386805),\n",
       "   Rating(user=864, product=29, rating=2.769965737832351))),\n",
       " (1152,\n",
       "  (Rating(user=1152, product=53, rating=4.002714174091933),\n",
       "   Rating(user=1152, product=6, rating=3.9646034762762934),\n",
       "   Rating(user=1152, product=31, rating=3.810267548294849),\n",
       "   Rating(user=1152, product=11, rating=3.3917022107699095),\n",
       "   Rating(user=1152, product=23, rating=3.293136278700367),\n",
       "   Rating(user=1152, product=47, rating=2.9271497901817813),\n",
       "   Rating(user=1152, product=30, rating=2.8650376828591737),\n",
       "   Rating(user=1152, product=15, rating=2.6672478364424617),\n",
       "   Rating(user=1152, product=18, rating=2.4975212018649113),\n",
       "   Rating(user=1152, product=43, rating=2.2524152419404837))),\n",
       " (144,\n",
       "  (Rating(user=144, product=2, rating=4.977078206836645),\n",
       "   Rating(user=144, product=21, rating=3.294259664240486),\n",
       "   Rating(user=144, product=8, rating=2.8453714881917205),\n",
       "   Rating(user=144, product=4, rating=2.6494370805479375),\n",
       "   Rating(user=144, product=17, rating=2.5008920338502074),\n",
       "   Rating(user=144, product=38, rating=1.8567391456027664),\n",
       "   Rating(user=144, product=12, rating=1.7520804358495106),\n",
       "   Rating(user=144, product=51, rating=1.3743881264691864),\n",
       "   Rating(user=144, product=3, rating=1.3076497593128846),\n",
       "   Rating(user=144, product=56, rating=1.286226104545465))),\n",
       " (577,\n",
       "  (Rating(user=577, product=48, rating=1.9854588378308378),\n",
       "   Rating(user=577, product=23, rating=1.8427755729246842),\n",
       "   Rating(user=577, product=53, rating=1.3718415153831078),\n",
       "   Rating(user=577, product=54, rating=1.1862033473780502),\n",
       "   Rating(user=577, product=46, rating=1.1600902987417077),\n",
       "   Rating(user=577, product=44, rating=1.118736289652491),\n",
       "   Rating(user=577, product=29, rating=1.1083059124711583),\n",
       "   Rating(user=577, product=30, rating=1.0423321057000992),\n",
       "   Rating(user=577, product=31, rating=0.9856767528839427),\n",
       "   Rating(user=577, product=18, rating=0.9298885128437864)))]"
      ]
     },
     "execution_count": 20,
     "metadata": {},
     "output_type": "execute_result"
    }
   ],
   "source": [
    "userRecs.take(10)"
   ]
  },
  {
   "cell_type": "code",
   "execution_count": 93,
   "metadata": {},
   "outputs": [
    {
     "data": {
      "text/plain": [
       "[(0,\n",
       "  (Rating(user=1119, product=0, rating=4.976813127712292),\n",
       "   Rating(user=26, product=0, rating=4.976813127712292),\n",
       "   Rating(user=948, product=0, rating=4.976813127712292),\n",
       "   Rating(user=984, product=0, rating=4.976813127712292),\n",
       "   Rating(user=901, product=0, rating=4.976813127712292),\n",
       "   Rating(user=72, product=0, rating=4.976813127712292),\n",
       "   Rating(user=696, product=0, rating=4.976813127712292),\n",
       "   Rating(user=1068, product=0, rating=4.976813127712292),\n",
       "   Rating(user=1080, product=0, rating=4.976813127712292),\n",
       "   Rating(user=843, product=0, rating=4.976813127712292))),\n",
       " (1,\n",
       "  (Rating(user=853, product=1, rating=4.954581371870312),\n",
       "   Rating(user=673, product=1, rating=4.954581371870312),\n",
       "   Rating(user=169, product=1, rating=4.954581371870312),\n",
       "   Rating(user=816, product=1, rating=4.954581371870312),\n",
       "   Rating(user=973, product=1, rating=4.954581371870312),\n",
       "   Rating(user=864, product=1, rating=4.954581371870312),\n",
       "   Rating(user=1164, product=1, rating=4.954581371870312),\n",
       "   Rating(user=12, product=1, rating=4.954581371870312),\n",
       "   Rating(user=600, product=1, rating=4.954581371870312),\n",
       "   Rating(user=625, product=1, rating=4.954581371870312))),\n",
       " (2,\n",
       "  (Rating(user=830, product=2, rating=6.190907168188852),\n",
       "   Rating(user=304, product=2, rating=4.977078206836645),\n",
       "   Rating(user=904, product=2, rating=4.977078206836645),\n",
       "   Rating(user=50, product=2, rating=4.977078206836645),\n",
       "   Rating(user=710, product=2, rating=4.977078206836645),\n",
       "   Rating(user=112, product=2, rating=4.977078206836645),\n",
       "   Rating(user=602, product=2, rating=4.977078206836645),\n",
       "   Rating(user=1189, product=2, rating=4.977078206836645),\n",
       "   Rating(user=144, product=2, rating=4.977078206836645),\n",
       "   Rating(user=1181, product=2, rating=4.977078206836645))),\n",
       " (3,\n",
       "  (Rating(user=248, product=3, rating=4.400479601225884),\n",
       "   Rating(user=1169, product=3, rating=4.400479601225884),\n",
       "   Rating(user=1171, product=3, rating=4.400479601225884),\n",
       "   Rating(user=52, product=3, rating=4.400479601225884),\n",
       "   Rating(user=149, product=3, rating=4.400479601225884),\n",
       "   Rating(user=1139, product=3, rating=4.400479601225884),\n",
       "   Rating(user=1108, product=3, rating=4.209949292037871),\n",
       "   Rating(user=197, product=3, rating=4.209949292037871),\n",
       "   Rating(user=313, product=3, rating=4.209949292037871),\n",
       "   Rating(user=639, product=3, rating=4.209949292037871))),\n",
       " (4,\n",
       "  (Rating(user=910, product=4, rating=4.980770807604987),\n",
       "   Rating(user=1186, product=4, rating=4.980770807604987),\n",
       "   Rating(user=1197, product=4, rating=4.980770807604987),\n",
       "   Rating(user=728, product=4, rating=4.980770807604987),\n",
       "   Rating(user=704, product=4, rating=4.980770807604987),\n",
       "   Rating(user=1136, product=4, rating=4.980770807604987),\n",
       "   Rating(user=947, product=4, rating=4.980770807604987),\n",
       "   Rating(user=1188, product=4, rating=3.984616799952917),\n",
       "   Rating(user=154, product=4, rating=3.984616799952917),\n",
       "   Rating(user=1053, product=4, rating=3.2552551121312066))),\n",
       " (5,\n",
       "  (Rating(user=1095, product=5, rating=4.956804042552318),\n",
       "   Rating(user=531, product=5, rating=4.956804042552318),\n",
       "   Rating(user=483, product=5, rating=4.956804042552318),\n",
       "   Rating(user=819, product=5, rating=4.956804042552318),\n",
       "   Rating(user=939, product=5, rating=4.956804042552318),\n",
       "   Rating(user=553, product=5, rating=4.956804042552318),\n",
       "   Rating(user=615, product=5, rating=4.956804042552318),\n",
       "   Rating(user=109, product=5, rating=4.956804042552318),\n",
       "   Rating(user=624, product=5, rating=4.956804042552318),\n",
       "   Rating(user=184, product=5, rating=4.956804042552318))),\n",
       " (6,\n",
       "  (Rating(user=1129, product=6, rating=4.955754327461891),\n",
       "   Rating(user=13, product=6, rating=4.955754327461891),\n",
       "   Rating(user=97, product=6, rating=4.955754327461891),\n",
       "   Rating(user=829, product=6, rating=4.955754327461891),\n",
       "   Rating(user=1045, product=6, rating=4.955754327461891),\n",
       "   Rating(user=348, product=6, rating=4.955754327461891),\n",
       "   Rating(user=337, product=6, rating=4.955754327461891),\n",
       "   Rating(user=288, product=6, rating=4.955754327461891),\n",
       "   Rating(user=780, product=6, rating=4.955754327461891),\n",
       "   Rating(user=626, product=6, rating=4.955754327461891))),\n",
       " (7,\n",
       "  (Rating(user=186, product=7, rating=4.970279000883679),\n",
       "   Rating(user=197, product=7, rating=4.970279000883679),\n",
       "   Rating(user=1013, product=7, rating=4.970279000883679),\n",
       "   Rating(user=807, product=7, rating=4.970279000883679),\n",
       "   Rating(user=1108, product=7, rating=4.970279000883679),\n",
       "   Rating(user=315, product=7, rating=4.970279000883679),\n",
       "   Rating(user=639, product=7, rating=4.970279000883679),\n",
       "   Rating(user=603, product=7, rating=4.970279000883679),\n",
       "   Rating(user=313, product=7, rating=4.970279000883679),\n",
       "   Rating(user=990, product=7, rating=4.970279000883679))),\n",
       " (8,\n",
       "  (Rating(user=1143, product=8, rating=5.156920457071672),\n",
       "   Rating(user=830, product=8, rating=5.065316566046697),\n",
       "   Rating(user=51, product=8, rating=4.979863800800691),\n",
       "   Rating(user=272, product=8, rating=4.979863800800691),\n",
       "   Rating(user=359, product=8, rating=4.979863800800691),\n",
       "   Rating(user=1067, product=8, rating=4.979863800800691),\n",
       "   Rating(user=1161, product=8, rating=4.125536454120676),\n",
       "   Rating(user=418, product=8, rating=3.983891104340101),\n",
       "   Rating(user=193, product=8, rating=3.5780933968014725),\n",
       "   Rating(user=480, product=8, rating=3.5780933968014725))),\n",
       " (9,\n",
       "  (Rating(user=585, product=9, rating=4.969758002505072),\n",
       "   Rating(user=1146, product=9, rating=4.969758002505072),\n",
       "   Rating(user=749, product=9, rating=4.969758002505072),\n",
       "   Rating(user=183, product=9, rating=4.969758002505072),\n",
       "   Rating(user=929, product=9, rating=4.969758002505072),\n",
       "   Rating(user=1131, product=9, rating=4.969758002505072),\n",
       "   Rating(user=565, product=9, rating=4.969758002505072),\n",
       "   Rating(user=492, product=9, rating=4.969758002505072),\n",
       "   Rating(user=132, product=9, rating=4.969758002505072),\n",
       "   Rating(user=850, product=9, rating=4.969758002505072)))]"
      ]
     },
     "execution_count": 93,
     "metadata": {},
     "output_type": "execute_result"
    }
   ],
   "source": [
    "pdtRecs.take(10)"
   ]
  },
  {
   "cell_type": "code",
   "execution_count": 17,
   "metadata": {},
   "outputs": [],
   "source": [
    "list_ratesAndPreds = [[i[0][0], i[0][1], i[1][0], i[1][1]] for i in ratesAndPreds.collect()]"
   ]
  },
  {
   "cell_type": "code",
   "execution_count": 18,
   "metadata": {},
   "outputs": [
    {
     "data": {
      "text/html": [
       "<div>\n",
       "<style scoped>\n",
       "    .dataframe tbody tr th:only-of-type {\n",
       "        vertical-align: middle;\n",
       "    }\n",
       "\n",
       "    .dataframe tbody tr th {\n",
       "        vertical-align: top;\n",
       "    }\n",
       "\n",
       "    .dataframe thead th {\n",
       "        text-align: right;\n",
       "    }\n",
       "</style>\n",
       "<table border=\"1\" class=\"dataframe\">\n",
       "  <thead>\n",
       "    <tr style=\"text-align: right;\">\n",
       "      <th></th>\n",
       "      <th>customer_id_num</th>\n",
       "      <th>product_cat_num</th>\n",
       "      <th>review_score</th>\n",
       "      <th>predicted_score</th>\n",
       "    </tr>\n",
       "  </thead>\n",
       "  <tbody>\n",
       "    <tr>\n",
       "      <th>0</th>\n",
       "      <td>154</td>\n",
       "      <td>4</td>\n",
       "      <td>4.0</td>\n",
       "      <td>3.984617</td>\n",
       "    </tr>\n",
       "    <tr>\n",
       "      <th>1</th>\n",
       "      <td>342</td>\n",
       "      <td>38</td>\n",
       "      <td>5.0</td>\n",
       "      <td>4.987080</td>\n",
       "    </tr>\n",
       "    <tr>\n",
       "      <th>2</th>\n",
       "      <td>506</td>\n",
       "      <td>10</td>\n",
       "      <td>4.0</td>\n",
       "      <td>3.973475</td>\n",
       "    </tr>\n",
       "    <tr>\n",
       "      <th>3</th>\n",
       "      <td>557</td>\n",
       "      <td>39</td>\n",
       "      <td>3.0</td>\n",
       "      <td>2.984695</td>\n",
       "    </tr>\n",
       "    <tr>\n",
       "      <th>4</th>\n",
       "      <td>627</td>\n",
       "      <td>15</td>\n",
       "      <td>4.0</td>\n",
       "      <td>3.980297</td>\n",
       "    </tr>\n",
       "  </tbody>\n",
       "</table>\n",
       "</div>"
      ],
      "text/plain": [
       "   customer_id_num  product_cat_num  review_score  predicted_score\n",
       "0              154                4           4.0         3.984617\n",
       "1              342               38           5.0         4.987080\n",
       "2              506               10           4.0         3.973475\n",
       "3              557               39           3.0         2.984695\n",
       "4              627               15           4.0         3.980297"
      ]
     },
     "execution_count": 18,
     "metadata": {},
     "output_type": "execute_result"
    }
   ],
   "source": [
    "df_ratesAndPreds = pd.DataFrame(list_ratesAndPreds, columns = ['customer_id_num', 'product_cat_num', 'review_score', 'predicted_score'])\n",
    "df_ratesAndPreds.head()"
   ]
  },
  {
   "cell_type": "code",
   "execution_count": 19,
   "metadata": {},
   "outputs": [
    {
     "data": {
      "text/html": [
       "<div>\n",
       "<style scoped>\n",
       "    .dataframe tbody tr th:only-of-type {\n",
       "        vertical-align: middle;\n",
       "    }\n",
       "\n",
       "    .dataframe tbody tr th {\n",
       "        vertical-align: top;\n",
       "    }\n",
       "\n",
       "    .dataframe thead th {\n",
       "        text-align: right;\n",
       "    }\n",
       "</style>\n",
       "<table border=\"1\" class=\"dataframe\">\n",
       "  <thead>\n",
       "    <tr style=\"text-align: right;\">\n",
       "      <th></th>\n",
       "      <th>customer_id_num</th>\n",
       "      <th>product_cat_num</th>\n",
       "      <th>review_score</th>\n",
       "      <th>predicted_score</th>\n",
       "      <th>binary_review_score</th>\n",
       "      <th>binary_predicted_score</th>\n",
       "    </tr>\n",
       "  </thead>\n",
       "  <tbody>\n",
       "    <tr>\n",
       "      <th>0</th>\n",
       "      <td>154</td>\n",
       "      <td>4</td>\n",
       "      <td>4.0</td>\n",
       "      <td>3.984617</td>\n",
       "      <td>1</td>\n",
       "      <td>1</td>\n",
       "    </tr>\n",
       "    <tr>\n",
       "      <th>1</th>\n",
       "      <td>342</td>\n",
       "      <td>38</td>\n",
       "      <td>5.0</td>\n",
       "      <td>4.987080</td>\n",
       "      <td>1</td>\n",
       "      <td>1</td>\n",
       "    </tr>\n",
       "    <tr>\n",
       "      <th>2</th>\n",
       "      <td>506</td>\n",
       "      <td>10</td>\n",
       "      <td>4.0</td>\n",
       "      <td>3.973475</td>\n",
       "      <td>1</td>\n",
       "      <td>1</td>\n",
       "    </tr>\n",
       "    <tr>\n",
       "      <th>3</th>\n",
       "      <td>557</td>\n",
       "      <td>39</td>\n",
       "      <td>3.0</td>\n",
       "      <td>2.984695</td>\n",
       "      <td>1</td>\n",
       "      <td>0</td>\n",
       "    </tr>\n",
       "    <tr>\n",
       "      <th>4</th>\n",
       "      <td>627</td>\n",
       "      <td>15</td>\n",
       "      <td>4.0</td>\n",
       "      <td>3.980297</td>\n",
       "      <td>1</td>\n",
       "      <td>1</td>\n",
       "    </tr>\n",
       "  </tbody>\n",
       "</table>\n",
       "</div>"
      ],
      "text/plain": [
       "   customer_id_num  product_cat_num  review_score  predicted_score  \\\n",
       "0              154                4           4.0         3.984617   \n",
       "1              342               38           5.0         4.987080   \n",
       "2              506               10           4.0         3.973475   \n",
       "3              557               39           3.0         2.984695   \n",
       "4              627               15           4.0         3.980297   \n",
       "\n",
       "   binary_review_score  binary_predicted_score  \n",
       "0                    1                       1  \n",
       "1                    1                       1  \n",
       "2                    1                       1  \n",
       "3                    1                       0  \n",
       "4                    1                       1  "
      ]
     },
     "execution_count": 19,
     "metadata": {},
     "output_type": "execute_result"
    }
   ],
   "source": [
    "def binary_score(x):\n",
    "    if x >= 3:\n",
    "        return 1\n",
    "    else:\n",
    "        return 0\n",
    "df_ratesAndPreds['binary_review_score'] = df_ratesAndPreds['review_score'].apply(lambda x: binary_score(x))\n",
    "df_ratesAndPreds['binary_predicted_score'] = df_ratesAndPreds['predicted_score'].apply(lambda x: binary_score(x))\n",
    "df_ratesAndPreds.head()"
   ]
  },
  {
   "cell_type": "code",
   "execution_count": 20,
   "metadata": {},
   "outputs": [
    {
     "data": {
      "text/plain": [
       "array([[290,   0],\n",
       "       [119, 578]])"
      ]
     },
     "execution_count": 20,
     "metadata": {},
     "output_type": "execute_result"
    }
   ],
   "source": [
    "from sklearn.metrics import confusion_matrix\n",
    "cm = confusion_matrix(df_ratesAndPreds['binary_review_score'], df_ratesAndPreds['binary_predicted_score'])\n",
    "cm"
   ]
  },
  {
   "cell_type": "code",
   "execution_count": 21,
   "metadata": {},
   "outputs": [
    {
     "name": "stdout",
     "output_type": "stream",
     "text": [
      "              precision    recall  f1-score   support\n",
      "\n",
      "           0       0.71      1.00      0.83       290\n",
      "           1       1.00      0.83      0.91       697\n",
      "\n",
      "    accuracy                           0.88       987\n",
      "   macro avg       0.85      0.91      0.87       987\n",
      "weighted avg       0.91      0.88      0.88       987\n",
      "\n"
     ]
    }
   ],
   "source": [
    "from sklearn import metrics\n",
    "print(metrics.classification_report(df_ratesAndPreds['binary_review_score'], df_ratesAndPreds['binary_predicted_score']))"
   ]
  },
  {
   "cell_type": "code",
   "execution_count": 22,
   "metadata": {},
   "outputs": [
    {
     "name": "stdout",
     "output_type": "stream",
     "text": [
      "Proportion of False negatives: 0.12056737588652482\n"
     ]
    }
   ],
   "source": [
    "print(\"Proportion of False negatives:\", (cm[1][0] /sum(sum(cm))))"
   ]
  },
  {
   "cell_type": "code",
   "execution_count": 23,
   "metadata": {},
   "outputs": [],
   "source": [
    "def spark_precision_recall_at_k(predictions, k=10, threshold=3.5):\n",
    "    '''Return precision and recall at k metrics for each user.'''\n",
    "\n",
    "    # First map the predictions to each user.\n",
    "    user_est_true = defaultdict(list)\n",
    "    for uid, _, true_r, est in predictions:\n",
    "        user_est_true[uid].append((est, true_r))\n",
    "\n",
    "    precisions = dict()\n",
    "    recalls = dict()\n",
    "    for uid, user_ratings in user_est_true.items():\n",
    "\n",
    "        # Sort user ratings by estimated value\n",
    "        user_ratings.sort(key=lambda x: x[0], reverse=True)\n",
    "\n",
    "        # Number of relevant items\n",
    "        n_rel = sum((true_r >= threshold) for (_, true_r) in user_ratings)\n",
    "\n",
    "        # Number of recommended items in top k\n",
    "        n_rec_k = sum((est >= threshold) for (est, _) in user_ratings[:k])\n",
    "\n",
    "        # Number of relevant and recommended items in top k\n",
    "        n_rel_and_rec_k = sum(((true_r >= threshold) and (est >= threshold))\n",
    "                              for (est, true_r) in user_ratings[:k])\n",
    "\n",
    "        # Precision@K: Proportion of recommended items that are relevant\n",
    "        precisions[uid] = n_rel_and_rec_k / n_rec_k if n_rec_k != 0 else 1\n",
    "\n",
    "        # Recall@K: Proportion of relevant items that are recommended\n",
    "        recalls[uid] = n_rel_and_rec_k / n_rel if n_rel != 0 else 1\n",
    "\n",
    "    return precisions, recalls"
   ]
  },
  {
   "cell_type": "code",
   "execution_count": 26,
   "metadata": {},
   "outputs": [
    {
     "name": "stdout",
     "output_type": "stream",
     "text": [
      "1.0\n",
      "0.8551414377249505\n"
     ]
    }
   ],
   "source": [
    "spark_als_precisions, spark_als_recalls = spark_precision_recall_at_k(list_ratesAndPreds, k=5, threshold=3)\n",
    "# Precision and recall can then be averaged over all users\n",
    "print(sum(prec for prec in spark_als_precisions.values()) / len(spark_als_precisions))\n",
    "print(sum(rec for rec in spark_als_recalls.values()) / len(spark_als_recalls))"
   ]
  },
  {
   "cell_type": "code",
   "execution_count": 27,
   "metadata": {},
   "outputs": [],
   "source": [
    "df_ratesAndPreds.to_csv('../data/processed/df_ratesAndPreds_spark_als_high_value_cust.csv')\n",
    "with open('../data/processed/list_ratesAndPreds_spark_als_high_value_cust.csv', 'wb') as to_write: \n",
    "     pickle.dump(list_ratesAndPreds, to_write)"
   ]
  },
  {
   "cell_type": "code",
   "execution_count": 8,
   "metadata": {},
   "outputs": [],
   "source": [
    "# with open('../data/processed/list_ratesAndPreds_spark_als.csv', 'rb') as read_file:\n",
    "#     list_ratesAndPreds = pickle.load(read_file)  "
   ]
  },
  {
   "cell_type": "markdown",
   "metadata": {},
   "source": [
    "### Make product category recommendation to myself\n",
    "We need to define a function that takes new user's product category rating and output top 10 recommendations"
   ]
  },
  {
   "cell_type": "code",
   "execution_count": 4,
   "metadata": {},
   "outputs": [],
   "source": [
    "def get_product_cat_num(df_pdt_cat, fav_pdt_cat_list):\n",
    "    \"\"\"\n",
    "    return all product_cat_num(s) of user's favorite pdt_cat\n",
    "    \n",
    "    Parameters\n",
    "    ----------\n",
    "    df_pdt_cat: spark Dataframe, pdt_cat data\n",
    "    \n",
    "    fav_pdt_cat_list: list, user's list of favorite pdt_cat\n",
    "    \n",
    "    Return\n",
    "    ------\n",
    "    product_cat_num_list: list of product_cat_num(s)\n",
    "    \"\"\"\n",
    "    product_cat_num_list = []\n",
    "    for pdt_category in fav_pdt_cat_list:\n",
    "        product_cat_nums = df_pdt_cat \\\n",
    "            .filter(pdt_cat.product_category_name_english.like('%{}%'.format(pdt_category))) \\\n",
    "            .select('product_cat_num') \\\n",
    "            .rdd \\\n",
    "            .map(lambda r: r[0]) \\\n",
    "            .collect()\n",
    "        product_cat_num_list.extend(product_cat_nums)\n",
    "    return list(set(product_cat_num_list))\n",
    "\n",
    "def add_new_user_to_data(train_data, product_cat_num_list, spark_context):\n",
    "    \"\"\"\n",
    "    add new rows with new user, user's pdt_cat and ratings to\n",
    "    existing train data\n",
    "\n",
    "    Parameters\n",
    "    ----------\n",
    "    train_data: spark RDD, ratings data\n",
    "    \n",
    "    product_cat_num_list: list, list of product_cat_num(s)\n",
    "\n",
    "    spark_context: Spark Context object\n",
    "    \n",
    "    Return\n",
    "    ------\n",
    "    new train data with the new user's rows\n",
    "    \"\"\"\n",
    "    # get new user id\n",
    "    new_id = train_data.map(lambda r: r[0]).max() + 1\n",
    "    # get max rating\n",
    "    max_rating = train_data.map(lambda r: r[2]).max()\n",
    "    # create new user rdd\n",
    "    user_rows = [(new_id, product_cat_num, max_rating) for product_cat_num in product_cat_num_list]\n",
    "    new_rdd = spark_context.parallelize(user_rows)\n",
    "    # return new train data\n",
    "    return train_data.union(new_rdd)\n",
    "\n",
    "def get_inference_data(train_data, df_pdt_cat, product_cat_num_list):\n",
    "    \"\"\"\n",
    "    return a rdd with the userid and all pdt_cat (except ones in product_cat_num_list)\n",
    "\n",
    "    Parameters\n",
    "    ----------\n",
    "    train_data: spark RDD, ratings data\n",
    "\n",
    "    df_pdt_cat: spark Dataframe, pdt_cat data\n",
    "    \n",
    "    product_cat_num_list: list, list of product_cat_num(s)\n",
    "\n",
    "    Return\n",
    "    ------\n",
    "    inference data: Spark RDD\n",
    "    \"\"\"\n",
    "    # get new user id\n",
    "    new_id = train_data.map(lambda r: r[0]).max() + 1\n",
    "    # return inference rdd\n",
    "    return df_pdt_cat.rdd \\\n",
    "        .map(lambda r: r[0]) \\\n",
    "        .distinct() \\\n",
    "        .filter(lambda x: x not in product_cat_num_list) \\\n",
    "        .map(lambda x: (new_id, x))\n",
    "\n",
    "def make_recommendation(best_model_params, ratings_data, df_pdt_cat, \n",
    "                        fav_pdt_cat_list, n_recommendations, spark_context):\n",
    "    \"\"\"\n",
    "    return top n pdt_cat recommendation based on user's input list of favorite pdt_cat\n",
    "\n",
    "\n",
    "    Parameters\n",
    "    ----------\n",
    "    best_model_params: dict, {'iterations': iter, 'rank': rank, 'lambda_': reg}\n",
    "\n",
    "    ratings_data: spark RDD, ratings data\n",
    "\n",
    "    df_pdt_cat: spark Dataframe, pdt_cat data\n",
    "\n",
    "    fav_pdt_cat_list: list, user's list of favorite pdt_cat\n",
    "\n",
    "    n_recommendations: int, top n recommendations\n",
    "\n",
    "    spark_context: Spark Context object\n",
    "\n",
    "    Return\n",
    "    ------\n",
    "    list of top n pdt_cat recommendations\n",
    "    \"\"\"\n",
    "    # modify train data by adding new user's rows\n",
    "    product_cat_num_list = get_product_cat_num(df_pdt_cat, fav_pdt_cat_list)\n",
    "    train_data = add_new_user_to_data(ratings_data, product_cat_num_list, spark_context)\n",
    "    \n",
    "    # train best ALS\n",
    "    model = ALS.train(\n",
    "        ratings=train_data,\n",
    "        iterations=best_model_params.get('iterations', None),\n",
    "        rank=best_model_params.get('rank', None),\n",
    "        lambda_=best_model_params.get('lambda_', None),\n",
    "        seed=99)\n",
    "    \n",
    "    # get inference rdd\n",
    "    inference_rdd = get_inference_data(ratings_data, df_pdt_cat, product_cat_num_list)\n",
    "    \n",
    "    # inference\n",
    "    predictions = model.predictAll(inference_rdd).map(lambda r: (r[1], r[2]))\n",
    "\n",
    "\n",
    "    # get top n product_cat_num\n",
    "    topn_rows = predictions.sortBy(lambda r: r[1], ascending=False).take(n_recommendations)\n",
    "    topn_ids = [r[0] for r in topn_rows]\n",
    "\n",
    "    # return pdt_cat titles\n",
    "    return df_pdt_cat.filter(pdt_cat.product_cat_num.isin(topn_ids)) \\\n",
    "                    .select('product_category_name_english') \\\n",
    "                    .rdd \\\n",
    "                    .map(lambda r: r[0]) \\\n",
    "                    .collect()"
   ]
  },
  {
   "cell_type": "code",
   "execution_count": 13,
   "metadata": {
    "scrolled": true
   },
   "outputs": [
    {
     "name": "stdout",
     "output_type": "stream",
     "text": [
      "Recommendations for bed_bath_table:\n",
      "1: sports_leisure\n",
      "2: consoles_games\n",
      "3: garden_tools\n",
      "4: fashion_bags_accessories\n",
      "5: music\n",
      "6: home_appliances_2\n",
      "7: agro_industry_and_commerce\n",
      "8: luggage_accessories\n",
      "9: tablets_printing_image\n",
      "10: construction_tools_safety\n"
     ]
    }
   ],
   "source": [
    "# my favorite pdt_cat\n",
    "my_favorite_pdt_cat = ['bed_bath_table']\n",
    "\n",
    "# get recommends\n",
    "recommends = make_recommendation(\n",
    "    best_model_params={'iterations': 10, 'rank': 8, 'lambda_': 0.05}, \n",
    "    ratings_data=rating_data, \n",
    "    df_pdt_cat=pdt_cat, \n",
    "    fav_pdt_cat_list=my_favorite_pdt_cat, \n",
    "    n_recommendations=10, \n",
    "    spark_context=sc)\n",
    "\n",
    "print('Recommendations for {}:'.format(my_favorite_pdt_cat[0]))\n",
    "for i, pdt_category in enumerate(recommends):\n",
    "    print('{0}: {1}'.format(i+1, pdt_category))"
   ]
  },
  {
   "cell_type": "code",
   "execution_count": 325,
   "metadata": {},
   "outputs": [],
   "source": [
    "with open('../data/processed/bed_bath_table_recommends_spark_als_high_value_cust.csv', 'wb') as to_write: \n",
    "     pickle.dump(recommends, to_write)"
   ]
  },
  {
   "cell_type": "code",
   "execution_count": 11,
   "metadata": {},
   "outputs": [
    {
     "data": {
      "text/html": [
       "<div>\n",
       "<style scoped>\n",
       "    .dataframe tbody tr th:only-of-type {\n",
       "        vertical-align: middle;\n",
       "    }\n",
       "\n",
       "    .dataframe tbody tr th {\n",
       "        vertical-align: top;\n",
       "    }\n",
       "\n",
       "    .dataframe thead th {\n",
       "        text-align: right;\n",
       "    }\n",
       "</style>\n",
       "<table border=\"1\" class=\"dataframe\">\n",
       "  <thead>\n",
       "    <tr style=\"text-align: right;\">\n",
       "      <th></th>\n",
       "      <th>customer_id_num</th>\n",
       "      <th>product_cat_num</th>\n",
       "      <th>review_score</th>\n",
       "    </tr>\n",
       "  </thead>\n",
       "  <tbody>\n",
       "    <tr>\n",
       "      <th>0</th>\n",
       "      <td>0</td>\n",
       "      <td>2</td>\n",
       "      <td>3</td>\n",
       "    </tr>\n",
       "    <tr>\n",
       "      <th>1</th>\n",
       "      <td>1</td>\n",
       "      <td>0</td>\n",
       "      <td>5</td>\n",
       "    </tr>\n",
       "  </tbody>\n",
       "</table>\n",
       "</div>"
      ],
      "text/plain": [
       "   customer_id_num  product_cat_num  review_score\n",
       "0                0                2             3\n",
       "1                1                0             5"
      ]
     },
     "execution_count": 11,
     "metadata": {},
     "output_type": "execute_result"
    },
    {
     "data": {
      "text/plain": [
       "3081"
      ]
     },
     "execution_count": 11,
     "metadata": {},
     "output_type": "execute_result"
    }
   ],
   "source": [
    "high_value_cust_num_pdt_rating_reco = pd.read_csv('../data/processed/high_value_cust_num_pdt_rating_reco.csv')\n",
    "high_value_cust_num_pdt_rating_reco.head(2)\n",
    "len(high_value_cust_num_pdt_rating_reco)"
   ]
  },
  {
   "cell_type": "code",
   "execution_count": 13,
   "metadata": {
    "scrolled": true
   },
   "outputs": [
    {
     "data": {
      "text/plain": [
       "58"
      ]
     },
     "execution_count": 13,
     "metadata": {},
     "output_type": "execute_result"
    },
    {
     "data": {
      "text/plain": [
       "18    439\n",
       "0     405\n",
       "13    275\n",
       "9     230\n",
       "2     191\n",
       "17    184\n",
       "16    129\n",
       "5     120\n",
       "15    108\n",
       "14    105\n",
       "4     104\n",
       "1      81\n",
       "33     78\n",
       "22     76\n",
       "12     56\n",
       "7      56\n",
       "3      50\n",
       "50     35\n",
       "56     28\n",
       "25     28\n",
       "48     27\n",
       "26     23\n",
       "10     18\n",
       "68     17\n",
       "42     16\n",
       "43     14\n",
       "59     13\n",
       "8      13\n",
       "53     13\n",
       "34     12\n",
       "23     10\n",
       "41      9\n",
       "45      9\n",
       "37      9\n",
       "62      8\n",
       "51      8\n",
       "11      7\n",
       "49      7\n",
       "20      7\n",
       "30      7\n",
       "24      6\n",
       "21      6\n",
       "39      5\n",
       "44      5\n",
       "28      5\n",
       "29      4\n",
       "27      3\n",
       "66      3\n",
       "55      3\n",
       "35      3\n",
       "61      3\n",
       "47      2\n",
       "6       2\n",
       "31      2\n",
       "52      1\n",
       "70      1\n",
       "63      1\n",
       "69      1\n",
       "Name: product_cat_num, dtype: int64"
      ]
     },
     "execution_count": 13,
     "metadata": {},
     "output_type": "execute_result"
    }
   ],
   "source": [
    "high_value_cust_num_pdt_rating_reco['product_cat_num'].nunique()\n",
    "high_value_cust_num_pdt_rating_reco['product_cat_num'].value_counts()"
   ]
  },
  {
   "cell_type": "code",
   "execution_count": null,
   "metadata": {},
   "outputs": [],
   "source": [
    "fav_pdt_cat_list = ['furniture_decor']\n",
    "for pdt_cat in fav_pdt_cat_list:\n",
    "    product_cat_nums = pdt_cat_df.filter(pdt_cat.product_category_name_english.contains('%{}%'.format(pdt_cat))) \\\n",
    "            .select('product_cat_num') \\\n",
    "            .rdd \\\n",
    "            .map(lambda r: r[0]) \\\n",
    "            .collect()\n",
    "    product_cat_num_list.extend(product_cat_nums)\n",
    "    return list(set(product_cat_num_list))"
   ]
  },
  {
   "cell_type": "code",
   "execution_count": null,
   "metadata": {},
   "outputs": [],
   "source": []
  },
  {
   "cell_type": "markdown",
   "metadata": {},
   "source": [
    "Model using Surprise library and find out if the rmse is lower than using Spark's ALS"
   ]
  },
  {
   "cell_type": "code",
   "execution_count": 123,
   "metadata": {},
   "outputs": [
    {
     "data": {
      "text/html": [
       "<div>\n",
       "<style scoped>\n",
       "    .dataframe tbody tr th:only-of-type {\n",
       "        vertical-align: middle;\n",
       "    }\n",
       "\n",
       "    .dataframe tbody tr th {\n",
       "        vertical-align: top;\n",
       "    }\n",
       "\n",
       "    .dataframe thead th {\n",
       "        text-align: right;\n",
       "    }\n",
       "</style>\n",
       "<table border=\"1\" class=\"dataframe\">\n",
       "  <thead>\n",
       "    <tr style=\"text-align: right;\">\n",
       "      <th></th>\n",
       "      <th>customer_id_num</th>\n",
       "      <th>product_cat_num</th>\n",
       "      <th>review_score</th>\n",
       "    </tr>\n",
       "  </thead>\n",
       "  <tbody>\n",
       "    <tr>\n",
       "      <th>0</th>\n",
       "      <td>0</td>\n",
       "      <td>0</td>\n",
       "      <td>3</td>\n",
       "    </tr>\n",
       "    <tr>\n",
       "      <th>1</th>\n",
       "      <td>1</td>\n",
       "      <td>1</td>\n",
       "      <td>5</td>\n",
       "    </tr>\n",
       "    <tr>\n",
       "      <th>2</th>\n",
       "      <td>2</td>\n",
       "      <td>1</td>\n",
       "      <td>5</td>\n",
       "    </tr>\n",
       "  </tbody>\n",
       "</table>\n",
       "</div>"
      ],
      "text/plain": [
       "   customer_id_num  product_cat_num  review_score\n",
       "0                0                0             3\n",
       "1                1                1             5\n",
       "2                2                1             5"
      ]
     },
     "execution_count": 123,
     "metadata": {},
     "output_type": "execute_result"
    }
   ],
   "source": [
    "ratings_df = pd.read_csv('../data/processed/high_value_cust_num_pdt_rating_dropna.csv')\n",
    "ratings_df.head(3)"
   ]
  },
  {
   "cell_type": "code",
   "execution_count": 127,
   "metadata": {},
   "outputs": [],
   "source": [
    "reader = Reader(rating_scale=(1, 5))\n",
    "data = Dataset.load_from_df(ratings_df, reader)"
   ]
  },
  {
   "cell_type": "code",
   "execution_count": 318,
   "metadata": {},
   "outputs": [],
   "source": [
    "benchmark = []\n",
    "# Iterate over all algorithms\n",
    "for algorithm in [SVD(), SVDpp(), SlopeOne(), NMF(), CoClustering()]:\n",
    "    # Perform cross validation\n",
    "    results = cross_validate(algorithm, data, measures=['RMSE'], cv=5, verbose=False)\n",
    "    \n",
    "    # Get results & append algorithm name\n",
    "    tmp = pd.DataFrame.from_dict(results).mean(axis=0)\n",
    "    tmp = tmp.append(pd.Series([str(algorithm).split(' ')[0].split('.')[-1]], index=['Algorithm']))\n",
    "    benchmark.append(tmp)"
   ]
  },
  {
   "cell_type": "code",
   "execution_count": 319,
   "metadata": {},
   "outputs": [
    {
     "data": {
      "text/html": [
       "<div>\n",
       "<style scoped>\n",
       "    .dataframe tbody tr th:only-of-type {\n",
       "        vertical-align: middle;\n",
       "    }\n",
       "\n",
       "    .dataframe tbody tr th {\n",
       "        vertical-align: top;\n",
       "    }\n",
       "\n",
       "    .dataframe thead th {\n",
       "        text-align: right;\n",
       "    }\n",
       "</style>\n",
       "<table border=\"1\" class=\"dataframe\">\n",
       "  <thead>\n",
       "    <tr style=\"text-align: right;\">\n",
       "      <th></th>\n",
       "      <th>test_rmse</th>\n",
       "      <th>fit_time</th>\n",
       "      <th>test_time</th>\n",
       "    </tr>\n",
       "    <tr>\n",
       "      <th>Algorithm</th>\n",
       "      <th></th>\n",
       "      <th></th>\n",
       "      <th></th>\n",
       "    </tr>\n",
       "  </thead>\n",
       "  <tbody>\n",
       "    <tr>\n",
       "      <th>SlopeOne</th>\n",
       "      <td>0.725707</td>\n",
       "      <td>0.011547</td>\n",
       "      <td>0.005347</td>\n",
       "    </tr>\n",
       "    <tr>\n",
       "      <th>NMF</th>\n",
       "      <td>0.744828</td>\n",
       "      <td>0.191103</td>\n",
       "      <td>0.004269</td>\n",
       "    </tr>\n",
       "    <tr>\n",
       "      <th>CoClustering</th>\n",
       "      <td>0.787804</td>\n",
       "      <td>0.138901</td>\n",
       "      <td>0.003184</td>\n",
       "    </tr>\n",
       "    <tr>\n",
       "      <th>SVD</th>\n",
       "      <td>0.813482</td>\n",
       "      <td>0.157296</td>\n",
       "      <td>0.005985</td>\n",
       "    </tr>\n",
       "    <tr>\n",
       "      <th>SVDpp</th>\n",
       "      <td>0.830135</td>\n",
       "      <td>0.404809</td>\n",
       "      <td>0.010205</td>\n",
       "    </tr>\n",
       "  </tbody>\n",
       "</table>\n",
       "</div>"
      ],
      "text/plain": [
       "              test_rmse  fit_time  test_time\n",
       "Algorithm                                   \n",
       "SlopeOne       0.725707  0.011547   0.005347\n",
       "NMF            0.744828  0.191103   0.004269\n",
       "CoClustering   0.787804  0.138901   0.003184\n",
       "SVD            0.813482  0.157296   0.005985\n",
       "SVDpp          0.830135  0.404809   0.010205"
      ]
     },
     "execution_count": 319,
     "metadata": {},
     "output_type": "execute_result"
    }
   ],
   "source": [
    "surprise_results = pd.DataFrame(benchmark).set_index('Algorithm').sort_values('test_rmse')\n",
    "surprise_results"
   ]
  },
  {
   "cell_type": "code",
   "execution_count": 152,
   "metadata": {
    "scrolled": true
   },
   "outputs": [],
   "source": [
    "def rmse_vs_factors(algorithm, data):\n",
    "    '''\n",
    "    Returns: rmse_algorithm i.e. a list of mean RMSE of CV = 5 in cross_validate() for each  factor k in range(1, 101, 1)\n",
    "    100 values \n",
    "    Arg:  i.) algorithm = Matrix factoization algorithm, e.g SVD/NMF/PMF, ii.)  data = surprise.dataset.DatasetAutoFolds\n",
    "\n",
    "    '''\n",
    "    rmse_algorithm = []\n",
    "    \n",
    "    for k in range(1, 59, 1):\n",
    "        algo = algorithm(n_factors = k)\n",
    "\n",
    "    #[\"test_rmse\"] is a numpy array with min accuracy value for each testset\n",
    "        loss_fce = cross_validate(algo, data, measures=['RMSE'], cv=5, verbose=False)[\"test_rmse\"].mean() \n",
    "        rmse_algorithm.append(loss_fce)\n",
    "    return rmse_algorithm"
   ]
  },
  {
   "cell_type": "code",
   "execution_count": 153,
   "metadata": {},
   "outputs": [],
   "source": [
    "rmse_nmf = rmse_vs_factors(NMF, data)"
   ]
  },
  {
   "cell_type": "code",
   "execution_count": 154,
   "metadata": {},
   "outputs": [],
   "source": [
    "def plot_rmse(rmse, algorithm):\n",
    "    '''\n",
    "    Returns: sub plots (2x1) of rmse against number of factors. \n",
    "    Vertical line in the second subplot identifies the arg for minimum RMSE\n",
    "    \n",
    "    Arg: i.) rmse = list of mean RMSE returned by rmse_vs_factors(), ii.) algorithm = STRING! of algo \n",
    "    \n",
    "    '''\n",
    "    plt.figure(num=None, figsize=(11, 5), dpi=80, facecolor='w', edgecolor='k')\n",
    "    plt.subplot(2,1,1)\n",
    "    plt.plot(rmse)\n",
    "    plt.xlim(0,100)\n",
    "    plt.title(\"{0} Performance: RMSE Against Number of Factors\".format(algorithm), size = 20 )\n",
    "    plt.ylabel(\"Mean RMSE (cv=5)\")\n",
    "\n",
    "    plt.subplot(2,1,2)\n",
    "    plt.plot(rmse)\n",
    "    plt.xlim(0,50)\n",
    "    plt.xticks(np.arange(0, 52, step=2))\n",
    "\n",
    "    plt.xlabel(\"{0}(n_factor = k)\".format(algorithm))\n",
    "    plt.ylabel(\"Mean RMSE (cv=5)\")\n",
    "    plt.axvline(np.argmin(rmse), color = \"r\")"
   ]
  },
  {
   "cell_type": "code",
   "execution_count": 155,
   "metadata": {},
   "outputs": [
    {
     "data": {
      "image/png": "[encoded data removed]",
      "text/plain": [
       "<Figure size 880x400 with 2 Axes>"
      ]
     },
     "metadata": {},
     "output_type": "display_data"
    }
   ],
   "source": [
    "plot_rmse(rmse_nmf,\"NMF\")"
   ]
  },
  {
   "cell_type": "code",
   "execution_count": 158,
   "metadata": {},
   "outputs": [
    {
     "name": "stdout",
     "output_type": "stream",
     "text": [
      "0.7491592821079883\n",
      "{'n_factors': 15}\n"
     ]
    }
   ],
   "source": [
    "param_grid = {'n_factors': [11,12,15,18,21]}\n",
    "gs = GridSearchCV(NMF, param_grid, measures=['rmse'], cv=5)\n",
    "gs.fit(data)\n",
    "\n",
    "\n",
    "# best RMSE score\n",
    "print(gs.best_score['rmse'])\n",
    "\n",
    "# combination of parameters that gave the best RMSE score\n",
    "print(gs.best_params['rmse'])"
   ]
  },
  {
   "cell_type": "code",
   "execution_count": 164,
   "metadata": {},
   "outputs": [
    {
     "data": {
      "text/plain": [
       "[Prediction(uid=947, iid=5, r_ui=3.524137931034483, est=4.34251746282013, details={'was_impossible': False}),\n",
       " Prediction(uid=947, iid=1, r_ui=3.524137931034483, est=4.097083154636506, details={'was_impossible': False})]"
      ]
     },
     "execution_count": 164,
     "metadata": {},
     "output_type": "execute_result"
    }
   ],
   "source": [
    "algo_NMF = NMF(n_factors = 11)\n",
    "algo_NMF.fit(trainset)\n",
    "\n",
    "\n",
    "# Predict ratings for all pairs (i,j) that are NOT in the training set.\n",
    "testset = trainset.build_anti_testset()\n",
    "\n",
    "NMF_predictions = algo_NMF.test(testset)\n",
    "\n",
    "# subset of the list  predictions\n",
    "NMF_predictions[0:2]"
   ]
  },
  {
   "cell_type": "code",
   "execution_count": 316,
   "metadata": {},
   "outputs": [],
   "source": [
    "# with open('../data/processed/NMF_predictions_high_value_cust.pkl', 'wb') as to_write: \n",
    "#      pickle.dump(NMF_predictions, to_write)"
   ]
  },
  {
   "cell_type": "code",
   "execution_count": null,
   "metadata": {},
   "outputs": [],
   "source": []
  },
  {
   "cell_type": "code",
   "execution_count": 161,
   "metadata": {},
   "outputs": [],
   "source": [
    "def precision_recall_at_k(predictions, k=10, threshold=3.5):\n",
    "    '''Return precision and recall at k metrics for each user.'''\n",
    "\n",
    "    # First map the predictions to each user.\n",
    "    user_est_true = defaultdict(list)\n",
    "    for uid, _, true_r, est, _ in predictions:\n",
    "        user_est_true[uid].append((est, true_r))\n",
    "\n",
    "    precisions = dict()\n",
    "    recalls = dict()\n",
    "    for uid, user_ratings in user_est_true.items():\n",
    "\n",
    "        # Sort user ratings by estimated value\n",
    "        user_ratings.sort(key=lambda x: x[0], reverse=True)\n",
    "\n",
    "        # Number of relevant items\n",
    "        n_rel = sum((true_r >= threshold) for (_, true_r) in user_ratings)\n",
    "\n",
    "        # Number of recommended items in top k\n",
    "        n_rec_k = sum((est >= threshold) for (est, _) in user_ratings[:k])\n",
    "\n",
    "        # Number of relevant and recommended items in top k\n",
    "        n_rel_and_rec_k = sum(((true_r >= threshold) and (est >= threshold))\n",
    "                              for (est, true_r) in user_ratings[:k])\n",
    "\n",
    "        # Precision@K: Proportion of recommended items that are relevant\n",
    "        precisions[uid] = n_rel_and_rec_k / n_rec_k if n_rec_k != 0 else 1\n",
    "\n",
    "        # Recall@K: Proportion of relevant items that are recommended\n",
    "        recalls[uid] = n_rel_and_rec_k / n_rel if n_rel != 0 else 1\n",
    "\n",
    "    return precisions, recalls"
   ]
  },
  {
   "cell_type": "code",
   "execution_count": 165,
   "metadata": {},
   "outputs": [
    {
     "name": "stdout",
     "output_type": "stream",
     "text": [
      "1.0\n",
      "0.062396867646215555\n"
     ]
    }
   ],
   "source": [
    "precisions, recalls = precision_recall_at_k(NMF_predictions, k=5, threshold=3)\n",
    "# Precision and recall can then be averaged over all users\n",
    "print(sum(prec for prec in precisions.values()) / len(precisions))\n",
    "print(sum(rec for rec in recalls.values()) / len(recalls))"
   ]
  },
  {
   "cell_type": "code",
   "execution_count": 172,
   "metadata": {},
   "outputs": [
    {
     "data": {
      "text/plain": [
       "1048"
      ]
     },
     "execution_count": 172,
     "metadata": {},
     "output_type": "execute_result"
    },
    {
     "data": {
      "text/plain": [
       "1048"
      ]
     },
     "execution_count": 172,
     "metadata": {},
     "output_type": "execute_result"
    }
   ],
   "source": [
    "len(precisions)\n",
    "len(recalls)"
   ]
  },
  {
   "cell_type": "markdown",
   "metadata": {},
   "source": [
    "Used Spark's ALS as RMSE is lower than using ML algos using Surprise"
   ]
  },
  {
   "cell_type": "markdown",
   "metadata": {},
   "source": [
    "References:\n",
    "\n",
    "- https://github.com/KevinLiao159/MyDataSciencePortfolio/blob/master/movie_recommender/movie_recommendation_using_ALS.ipynb\n",
    "- "
   ]
  }
 ],
 "metadata": {
  "kernelspec": {
   "display_name": "Python [conda env:metis] *",
   "language": "python",
   "name": "conda-env-metis-py"
  },
  "language_info": {
   "codemirror_mode": {
    "name": "ipython",
    "version": 3
   },
   "file_extension": ".py",
   "mimetype": "text/x-python",
   "name": "python",
   "nbconvert_exporter": "python",
   "pygments_lexer": "ipython3",
   "version": "3.7.4"
  }
 },
 "nbformat": 4,
 "nbformat_minor": 4
}
